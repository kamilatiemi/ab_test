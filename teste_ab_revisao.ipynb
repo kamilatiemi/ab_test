{
 "cells": [
  {
   "cell_type": "markdown",
   "metadata": {},
   "source": [
    "# A/B Test Project\n",
    "\n",
    "You have received an analytical task from an international online store. Your predecessor was unable to complete it: they launched an A/B test and then gave up (to start a watermelon farm in Brazil). They left only the technical specifications and the test results.\n",
    "\n",
    "## Technical Description\n",
    "\n",
    "- **Test name:** `recommender_system_test`\n",
    "- **Groups:** A (control), B (new payment funnel)\n",
    "- **Start date:** 2020-12-07\n",
    "- **Date when they stopped receiving new users:** 2020-12-21\n",
    "- **End date:** 2021-01-01\n",
    "- **Audience:** 15% of new users from the EU region\n",
    "- **Purpose of the test:** testing changes related to the introduction of an improved recommendation system\n",
    "- **Expected result:** within 14 days after registration, users show better conversion in:\n",
    "  - product page views (`product_page` event)\n",
    "  - adding items to cart (`product_cart`)\n",
    "  - purchases (`purchase`)\n",
    "\n",
    "  At each stage of the funnel `product_page → product_cart → purchase`, there will be at least a 10% increase.\n",
    "\n",
    "- **Expected number of test participants:** 6000\n",
    "\n",
    "## Task\n",
    "\n",
    "Download the test data, check if it was conducted correctly, and analyze the results."
   ]
  },
  {
   "cell_type": "markdown",
   "metadata": {},
   "source": [
    "### Data Description\n",
    "\n",
    "- `ab_project_marketing_events_us.csv` — the marketing event calendar for 2020\n",
    "- `final_ab_new_users_upd_us.csv` — all users who registered in the online store from December 7 to December 21, 2020\n",
    "- `final_ab_events_upd_us.csv` — all events from new users during the period from December 7, 2020 to January 1, 2021\n",
    "- `final_ab_participants_upd_us.csv` — table containing the test participants\n",
    "\n",
    "**Structure of `ab_project_marketing_events_us.csv`:**\n",
    "\n",
    "- `name` — the name of the marketing event\n",
    "- `regions` — the regions where the campaign took place\n",
    "- `start_dt` — the campaign start date\n",
    "- `finish_dt` — the campaign end date\n",
    "\n",
    "**Structure of `final_ab_new_users_upd_us.csv`:**\n",
    "\n",
    "- `user_id`\n",
    "- `first_date` — registration date\n",
    "- `region`\n",
    "- `device` — the device used for registration\n",
    "\n",
    "**Structure of `final_ab_events_upd_us.csv`:**\n",
    "\n",
    "- `user_id`\n",
    "- `event_dt` — date and time of the event\n",
    "- `event_name` — name of the event source\n",
    "- `details` — additional data about the event (for example, the order total in US\n"
   ]
  },
  {
   "cell_type": "markdown",
   "metadata": {},
   "source": [
    "### Instructions to Complete the Task\n",
    "\n",
    "- Describe the objectives of the study.\n",
    "- Explore the data:\n",
    "  - Do the data types need to be converted?\n",
    "  - Are there any missing or duplicate values? If so, how will you characterize them?"
   ]
  },
  {
   "cell_type": "code",
   "execution_count": 2,
   "metadata": {},
   "outputs": [],
   "source": [
    "#importando as bibliotecas necessárias\n",
    "import pandas as pd\n",
    "import numpy as np\n",
    "from matplotlib import pyplot as plt\n",
    "import seaborn as sns\n",
    "import plotly.express as px\n",
    "import scipy.stats as st\n",
    "import math \n",
    "import plotly.graph_objects as go\n",
    "from statsmodels.stats.proportion import proportions_ztest"
   ]
  },
  {
   "cell_type": "code",
   "execution_count": 4,
   "metadata": {},
   "outputs": [],
   "source": [
    "#reading files\n",
    "\n",
    "def read_csv(file_name='name.csv'):\n",
    "    '''\n",
    "    We are using this function to read files\n",
    "    '''\n",
    "    df = pd.read_csv(file_name, sep=',')\n",
    "    return df\n",
    "\n",
    "ab_mkt_events = read_csv('ab_project_marketing_events_us.csv')\n",
    "ab_new_users = read_csv('final_ab_new_users_upd_us.csv')\n",
    "ab_events = read_csv('final_ab_events_upd_us.csv')\n",
    "ab_participants = read_csv('final_ab_participants_upd_us.csv')\n"
   ]
  },
  {
   "cell_type": "markdown",
   "metadata": {},
   "source": [
    "_Analysing each dataframe_"
   ]
  },
  {
   "cell_type": "code",
   "execution_count": 5,
   "metadata": {},
   "outputs": [
    {
     "name": "stdout",
     "output_type": "stream",
     "text": [
      "<class 'pandas.core.frame.DataFrame'>\n",
      "RangeIndex: 14 entries, 0 to 13\n",
      "Data columns (total 4 columns):\n",
      " #   Column     Non-Null Count  Dtype \n",
      "---  ------     --------------  ----- \n",
      " 0   name       14 non-null     object\n",
      " 1   regions    14 non-null     object\n",
      " 2   start_dt   14 non-null     object\n",
      " 3   finish_dt  14 non-null     object\n",
      "dtypes: object(4)\n",
      "memory usage: 580.0+ bytes\n",
      "\n"
     ]
    },
    {
     "data": {
      "application/vnd.microsoft.datawrangler.viewer.v0+json": {
       "columns": [
        {
         "name": "index",
         "rawType": "int64",
         "type": "integer"
        },
        {
         "name": "name",
         "rawType": "object",
         "type": "string"
        },
        {
         "name": "regions",
         "rawType": "object",
         "type": "string"
        },
        {
         "name": "start_dt",
         "rawType": "object",
         "type": "string"
        },
        {
         "name": "finish_dt",
         "rawType": "object",
         "type": "string"
        }
       ],
       "ref": "0fa8d5f3-464e-408c-9cbf-3dcd96cdb0f0",
       "rows": [
        [
         "8",
         "International Women's Day Promo",
         "EU, CIS, APAC",
         "2020-03-08",
         "2020-03-10"
        ],
        [
         "1",
         "St. Valentine's Day Giveaway",
         "EU, CIS, APAC, N.America",
         "2020-02-14",
         "2020-02-16"
        ],
        [
         "4",
         "4th of July Promo",
         "N.America",
         "2020-07-04",
         "2020-07-11"
        ],
        [
         "5",
         "Black Friday Ads Campaign",
         "EU, CIS, APAC, N.America",
         "2020-11-26",
         "2020-12-01"
        ],
        [
         "11",
         "Dragon Boat Festival Giveaway",
         "APAC",
         "2020-06-25",
         "2020-07-01"
        ]
       ],
       "shape": {
        "columns": 4,
        "rows": 5
       }
      },
      "text/html": [
       "<div>\n",
       "<style scoped>\n",
       "    .dataframe tbody tr th:only-of-type {\n",
       "        vertical-align: middle;\n",
       "    }\n",
       "\n",
       "    .dataframe tbody tr th {\n",
       "        vertical-align: top;\n",
       "    }\n",
       "\n",
       "    .dataframe thead th {\n",
       "        text-align: right;\n",
       "    }\n",
       "</style>\n",
       "<table border=\"1\" class=\"dataframe\">\n",
       "  <thead>\n",
       "    <tr style=\"text-align: right;\">\n",
       "      <th></th>\n",
       "      <th>name</th>\n",
       "      <th>regions</th>\n",
       "      <th>start_dt</th>\n",
       "      <th>finish_dt</th>\n",
       "    </tr>\n",
       "  </thead>\n",
       "  <tbody>\n",
       "    <tr>\n",
       "      <th>8</th>\n",
       "      <td>International Women's Day Promo</td>\n",
       "      <td>EU, CIS, APAC</td>\n",
       "      <td>2020-03-08</td>\n",
       "      <td>2020-03-10</td>\n",
       "    </tr>\n",
       "    <tr>\n",
       "      <th>1</th>\n",
       "      <td>St. Valentine's Day Giveaway</td>\n",
       "      <td>EU, CIS, APAC, N.America</td>\n",
       "      <td>2020-02-14</td>\n",
       "      <td>2020-02-16</td>\n",
       "    </tr>\n",
       "    <tr>\n",
       "      <th>4</th>\n",
       "      <td>4th of July Promo</td>\n",
       "      <td>N.America</td>\n",
       "      <td>2020-07-04</td>\n",
       "      <td>2020-07-11</td>\n",
       "    </tr>\n",
       "    <tr>\n",
       "      <th>5</th>\n",
       "      <td>Black Friday Ads Campaign</td>\n",
       "      <td>EU, CIS, APAC, N.America</td>\n",
       "      <td>2020-11-26</td>\n",
       "      <td>2020-12-01</td>\n",
       "    </tr>\n",
       "    <tr>\n",
       "      <th>11</th>\n",
       "      <td>Dragon Boat Festival Giveaway</td>\n",
       "      <td>APAC</td>\n",
       "      <td>2020-06-25</td>\n",
       "      <td>2020-07-01</td>\n",
       "    </tr>\n",
       "  </tbody>\n",
       "</table>\n",
       "</div>"
      ],
      "text/plain": [
       "                               name                   regions    start_dt  \\\n",
       "8   International Women's Day Promo             EU, CIS, APAC  2020-03-08   \n",
       "1      St. Valentine's Day Giveaway  EU, CIS, APAC, N.America  2020-02-14   \n",
       "4                 4th of July Promo                 N.America  2020-07-04   \n",
       "5         Black Friday Ads Campaign  EU, CIS, APAC, N.America  2020-11-26   \n",
       "11    Dragon Boat Festival Giveaway                      APAC  2020-06-25   \n",
       "\n",
       "     finish_dt  \n",
       "8   2020-03-10  \n",
       "1   2020-02-16  \n",
       "4   2020-07-11  \n",
       "5   2020-12-01  \n",
       "11  2020-07-01  "
      ]
     },
     "execution_count": 5,
     "metadata": {},
     "output_type": "execute_result"
    }
   ],
   "source": [
    "ab_mkt_events.info()\n",
    "print()\n",
    "ab_mkt_events.sample(5)"
   ]
  },
  {
   "cell_type": "markdown",
   "metadata": {},
   "source": [
    "This dataframe consists of 4 columns, containing 14 rows with the name of each event, the region, and its start date.  \n",
    "There are no missing or duplicate values, but we can confirm this by using the `isna` and `duplicated` methods.\n",
    "\n",
    "We can convert the date values to `datetime`."
   ]
  },
  {
   "cell_type": "code",
   "execution_count": 6,
   "metadata": {},
   "outputs": [
    {
     "name": "stdout",
     "output_type": "stream",
     "text": [
      "Null data name         0\n",
      "regions      0\n",
      "start_dt     0\n",
      "finish_dt    0\n",
      "dtype: int64\n",
      "\n",
      "Duplicated data 0\n"
     ]
    }
   ],
   "source": [
    "print(f'Null data', ab_mkt_events.isna().sum())\n",
    "print()\n",
    "print(f'Duplicated data',ab_mkt_events.duplicated().sum())"
   ]
  },
  {
   "cell_type": "code",
   "execution_count": 7,
   "metadata": {},
   "outputs": [],
   "source": [
    "def convert_time(df, cols):\n",
    "    '''\n",
    "    We will use this function to convert the data to `datetime` whenever needed.\n",
    "    '''\n",
    "    for col in cols:\n",
    "        df[col] = pd.to_datetime(df[col])\n",
    "    return df.sample(5)"
   ]
  },
  {
   "cell_type": "code",
   "execution_count": 8,
   "metadata": {},
   "outputs": [
    {
     "name": "stdout",
     "output_type": "stream",
     "text": [
      "<class 'pandas.core.frame.DataFrame'>\n",
      "RangeIndex: 14 entries, 0 to 13\n",
      "Data columns (total 4 columns):\n",
      " #   Column     Non-Null Count  Dtype         \n",
      "---  ------     --------------  -----         \n",
      " 0   name       14 non-null     object        \n",
      " 1   regions    14 non-null     object        \n",
      " 2   start_dt   14 non-null     datetime64[ns]\n",
      " 3   finish_dt  14 non-null     datetime64[ns]\n",
      "dtypes: datetime64[ns](2), object(2)\n",
      "memory usage: 580.0+ bytes\n"
     ]
    },
    {
     "data": {
      "application/vnd.microsoft.datawrangler.viewer.v0+json": {
       "columns": [
        {
         "name": "index",
         "rawType": "int64",
         "type": "integer"
        },
        {
         "name": "name",
         "rawType": "object",
         "type": "string"
        },
        {
         "name": "regions",
         "rawType": "object",
         "type": "string"
        },
        {
         "name": "start_dt",
         "rawType": "datetime64[ns]",
         "type": "datetime"
        },
        {
         "name": "finish_dt",
         "rawType": "datetime64[ns]",
         "type": "datetime"
        }
       ],
       "ref": "56df5cef-73b2-4d03-852a-ac0ef616369b",
       "rows": [
        [
         "4",
         "4th of July Promo",
         "N.America",
         "2020-07-04 00:00:00",
         "2020-07-11 00:00:00"
        ],
        [
         "7",
         "Labor day (May 1st) Ads Campaign",
         "EU, CIS, APAC",
         "2020-05-01 00:00:00",
         "2020-05-03 00:00:00"
        ],
        [
         "2",
         "St. Patric's Day Promo",
         "EU, N.America",
         "2020-03-17 00:00:00",
         "2020-03-19 00:00:00"
        ],
        [
         "12",
         "Single's Day Gift Promo",
         "APAC",
         "2020-11-11 00:00:00",
         "2020-11-12 00:00:00"
        ],
        [
         "0",
         "Christmas&New Year Promo",
         "EU, N.America",
         "2020-12-25 00:00:00",
         "2021-01-03 00:00:00"
        ]
       ],
       "shape": {
        "columns": 4,
        "rows": 5
       }
      },
      "text/html": [
       "<div>\n",
       "<style scoped>\n",
       "    .dataframe tbody tr th:only-of-type {\n",
       "        vertical-align: middle;\n",
       "    }\n",
       "\n",
       "    .dataframe tbody tr th {\n",
       "        vertical-align: top;\n",
       "    }\n",
       "\n",
       "    .dataframe thead th {\n",
       "        text-align: right;\n",
       "    }\n",
       "</style>\n",
       "<table border=\"1\" class=\"dataframe\">\n",
       "  <thead>\n",
       "    <tr style=\"text-align: right;\">\n",
       "      <th></th>\n",
       "      <th>name</th>\n",
       "      <th>regions</th>\n",
       "      <th>start_dt</th>\n",
       "      <th>finish_dt</th>\n",
       "    </tr>\n",
       "  </thead>\n",
       "  <tbody>\n",
       "    <tr>\n",
       "      <th>4</th>\n",
       "      <td>4th of July Promo</td>\n",
       "      <td>N.America</td>\n",
       "      <td>2020-07-04</td>\n",
       "      <td>2020-07-11</td>\n",
       "    </tr>\n",
       "    <tr>\n",
       "      <th>7</th>\n",
       "      <td>Labor day (May 1st) Ads Campaign</td>\n",
       "      <td>EU, CIS, APAC</td>\n",
       "      <td>2020-05-01</td>\n",
       "      <td>2020-05-03</td>\n",
       "    </tr>\n",
       "    <tr>\n",
       "      <th>2</th>\n",
       "      <td>St. Patric's Day Promo</td>\n",
       "      <td>EU, N.America</td>\n",
       "      <td>2020-03-17</td>\n",
       "      <td>2020-03-19</td>\n",
       "    </tr>\n",
       "    <tr>\n",
       "      <th>12</th>\n",
       "      <td>Single's Day Gift Promo</td>\n",
       "      <td>APAC</td>\n",
       "      <td>2020-11-11</td>\n",
       "      <td>2020-11-12</td>\n",
       "    </tr>\n",
       "    <tr>\n",
       "      <th>0</th>\n",
       "      <td>Christmas&amp;New Year Promo</td>\n",
       "      <td>EU, N.America</td>\n",
       "      <td>2020-12-25</td>\n",
       "      <td>2021-01-03</td>\n",
       "    </tr>\n",
       "  </tbody>\n",
       "</table>\n",
       "</div>"
      ],
      "text/plain": [
       "                                name        regions   start_dt  finish_dt\n",
       "4                  4th of July Promo      N.America 2020-07-04 2020-07-11\n",
       "7   Labor day (May 1st) Ads Campaign  EU, CIS, APAC 2020-05-01 2020-05-03\n",
       "2             St. Patric's Day Promo  EU, N.America 2020-03-17 2020-03-19\n",
       "12           Single's Day Gift Promo           APAC 2020-11-11 2020-11-12\n",
       "0           Christmas&New Year Promo  EU, N.America 2020-12-25 2021-01-03"
      ]
     },
     "execution_count": 8,
     "metadata": {},
     "output_type": "execute_result"
    }
   ],
   "source": [
    "convert_time(ab_mkt_events,['start_dt', 'finish_dt'])\n",
    "\n",
    "ab_mkt_events.info()\n",
    "\n",
    "ab_mkt_events.sample(5)"
   ]
  },
  {
   "cell_type": "code",
   "execution_count": 9,
   "metadata": {},
   "outputs": [
    {
     "name": "stdout",
     "output_type": "stream",
     "text": [
      "<class 'pandas.core.frame.DataFrame'>\n",
      "RangeIndex: 58703 entries, 0 to 58702\n",
      "Data columns (total 4 columns):\n",
      " #   Column      Non-Null Count  Dtype \n",
      "---  ------      --------------  ----- \n",
      " 0   user_id     58703 non-null  object\n",
      " 1   first_date  58703 non-null  object\n",
      " 2   region      58703 non-null  object\n",
      " 3   device      58703 non-null  object\n",
      "dtypes: object(4)\n",
      "memory usage: 1.8+ MB\n"
     ]
    },
    {
     "data": {
      "application/vnd.microsoft.datawrangler.viewer.v0+json": {
       "columns": [
        {
         "name": "index",
         "rawType": "int64",
         "type": "integer"
        },
        {
         "name": "user_id",
         "rawType": "object",
         "type": "string"
        },
        {
         "name": "first_date",
         "rawType": "object",
         "type": "string"
        },
        {
         "name": "region",
         "rawType": "object",
         "type": "string"
        },
        {
         "name": "device",
         "rawType": "object",
         "type": "string"
        }
       ],
       "ref": "a8d4d9ef-6dc3-4d76-98f9-a0ef5401c91a",
       "rows": [
        [
         "29565",
         "BF5758DC9D7AB7B2",
         "2020-12-16",
         "EU",
         "Android"
        ],
        [
         "3770",
         "5B0CA25C762378E6",
         "2020-12-07",
         "EU",
         "iPhone"
        ],
        [
         "49919",
         "245BD962FFBC57F0",
         "2020-12-19",
         "N.America",
         "PC"
        ],
        [
         "21522",
         "564AC2EFBE8D2847",
         "2020-12-15",
         "EU",
         "Android"
        ],
        [
         "42819",
         "CDF6B4FE6A0E6168",
         "2020-12-18",
         "EU",
         "PC"
        ]
       ],
       "shape": {
        "columns": 4,
        "rows": 5
       }
      },
      "text/html": [
       "<div>\n",
       "<style scoped>\n",
       "    .dataframe tbody tr th:only-of-type {\n",
       "        vertical-align: middle;\n",
       "    }\n",
       "\n",
       "    .dataframe tbody tr th {\n",
       "        vertical-align: top;\n",
       "    }\n",
       "\n",
       "    .dataframe thead th {\n",
       "        text-align: right;\n",
       "    }\n",
       "</style>\n",
       "<table border=\"1\" class=\"dataframe\">\n",
       "  <thead>\n",
       "    <tr style=\"text-align: right;\">\n",
       "      <th></th>\n",
       "      <th>user_id</th>\n",
       "      <th>first_date</th>\n",
       "      <th>region</th>\n",
       "      <th>device</th>\n",
       "    </tr>\n",
       "  </thead>\n",
       "  <tbody>\n",
       "    <tr>\n",
       "      <th>29565</th>\n",
       "      <td>BF5758DC9D7AB7B2</td>\n",
       "      <td>2020-12-16</td>\n",
       "      <td>EU</td>\n",
       "      <td>Android</td>\n",
       "    </tr>\n",
       "    <tr>\n",
       "      <th>3770</th>\n",
       "      <td>5B0CA25C762378E6</td>\n",
       "      <td>2020-12-07</td>\n",
       "      <td>EU</td>\n",
       "      <td>iPhone</td>\n",
       "    </tr>\n",
       "    <tr>\n",
       "      <th>49919</th>\n",
       "      <td>245BD962FFBC57F0</td>\n",
       "      <td>2020-12-19</td>\n",
       "      <td>N.America</td>\n",
       "      <td>PC</td>\n",
       "    </tr>\n",
       "    <tr>\n",
       "      <th>21522</th>\n",
       "      <td>564AC2EFBE8D2847</td>\n",
       "      <td>2020-12-15</td>\n",
       "      <td>EU</td>\n",
       "      <td>Android</td>\n",
       "    </tr>\n",
       "    <tr>\n",
       "      <th>42819</th>\n",
       "      <td>CDF6B4FE6A0E6168</td>\n",
       "      <td>2020-12-18</td>\n",
       "      <td>EU</td>\n",
       "      <td>PC</td>\n",
       "    </tr>\n",
       "  </tbody>\n",
       "</table>\n",
       "</div>"
      ],
      "text/plain": [
       "                user_id  first_date     region   device\n",
       "29565  BF5758DC9D7AB7B2  2020-12-16         EU  Android\n",
       "3770   5B0CA25C762378E6  2020-12-07         EU   iPhone\n",
       "49919  245BD962FFBC57F0  2020-12-19  N.America       PC\n",
       "21522  564AC2EFBE8D2847  2020-12-15         EU  Android\n",
       "42819  CDF6B4FE6A0E6168  2020-12-18         EU       PC"
      ]
     },
     "execution_count": 9,
     "metadata": {},
     "output_type": "execute_result"
    }
   ],
   "source": [
    "ab_new_users.info()\n",
    "\n",
    "ab_new_users.sample(5)"
   ]
  },
  {
   "cell_type": "markdown",
   "metadata": {},
   "source": [
    "This dataset contains 4 columns and 58,704 rows with user ID data, registration date, region, and the device used for registration.  \n",
    "Apparently, there are no null or duplicate values, and all columns are objects.  \n",
    "We can convert the date values to `datetime`."
   ]
  },
  {
   "cell_type": "code",
   "execution_count": 10,
   "metadata": {},
   "outputs": [
    {
     "name": "stdout",
     "output_type": "stream",
     "text": [
      "Null data user_id       0\n",
      "first_date    0\n",
      "region        0\n",
      "device        0\n",
      "dtype: int64\n",
      "\n",
      "Duplicated data 0\n"
     ]
    }
   ],
   "source": [
    "print(f'Null data', ab_new_users.isna().sum())\n",
    "print()\n",
    "print(f'Duplicated data',ab_new_users.duplicated().sum())"
   ]
  },
  {
   "cell_type": "code",
   "execution_count": 11,
   "metadata": {},
   "outputs": [
    {
     "name": "stdout",
     "output_type": "stream",
     "text": [
      "<class 'pandas.core.frame.DataFrame'>\n",
      "RangeIndex: 58703 entries, 0 to 58702\n",
      "Data columns (total 4 columns):\n",
      " #   Column      Non-Null Count  Dtype         \n",
      "---  ------      --------------  -----         \n",
      " 0   user_id     58703 non-null  object        \n",
      " 1   first_date  58703 non-null  datetime64[ns]\n",
      " 2   region      58703 non-null  object        \n",
      " 3   device      58703 non-null  object        \n",
      "dtypes: datetime64[ns](1), object(3)\n",
      "memory usage: 1.8+ MB\n"
     ]
    }
   ],
   "source": [
    "convert_time(ab_new_users, ['first_date'])\n",
    "\n",
    "ab_new_users.info()"
   ]
  },
  {
   "cell_type": "code",
   "execution_count": 12,
   "metadata": {},
   "outputs": [
    {
     "name": "stdout",
     "output_type": "stream",
     "text": [
      "<class 'pandas.core.frame.DataFrame'>\n",
      "RangeIndex: 423761 entries, 0 to 423760\n",
      "Data columns (total 4 columns):\n",
      " #   Column      Non-Null Count   Dtype  \n",
      "---  ------      --------------   -----  \n",
      " 0   user_id     423761 non-null  object \n",
      " 1   event_dt    423761 non-null  object \n",
      " 2   event_name  423761 non-null  object \n",
      " 3   details     60314 non-null   float64\n",
      "dtypes: float64(1), object(3)\n",
      "memory usage: 12.9+ MB\n"
     ]
    },
    {
     "data": {
      "application/vnd.microsoft.datawrangler.viewer.v0+json": {
       "columns": [
        {
         "name": "index",
         "rawType": "int64",
         "type": "integer"
        },
        {
         "name": "user_id",
         "rawType": "object",
         "type": "string"
        },
        {
         "name": "event_dt",
         "rawType": "object",
         "type": "string"
        },
        {
         "name": "event_name",
         "rawType": "object",
         "type": "string"
        },
        {
         "name": "details",
         "rawType": "float64",
         "type": "float"
        }
       ],
       "ref": "5549125a-c8b8-42f5-8d55-9bd816aaeae8",
       "rows": [
        [
         "90239",
         "E1159E32EB27E60D",
         "2020-12-18 12:21:18",
         "product_cart",
         null
        ],
        [
         "66490",
         "54B78696954828D2",
         "2020-12-10 10:11:59",
         "product_cart",
         null
        ],
        [
         "66782",
         "BBB4061D3005F91F",
         "2020-12-10 07:52:52",
         "product_cart",
         null
        ],
        [
         "316921",
         "E19AC6E5C305D1B3",
         "2020-12-17 09:13:49",
         "login",
         null
        ],
        [
         "218898",
         "202781464CA63932",
         "2020-12-23 02:05:20",
         "product_page",
         null
        ]
       ],
       "shape": {
        "columns": 4,
        "rows": 5
       }
      },
      "text/html": [
       "<div>\n",
       "<style scoped>\n",
       "    .dataframe tbody tr th:only-of-type {\n",
       "        vertical-align: middle;\n",
       "    }\n",
       "\n",
       "    .dataframe tbody tr th {\n",
       "        vertical-align: top;\n",
       "    }\n",
       "\n",
       "    .dataframe thead th {\n",
       "        text-align: right;\n",
       "    }\n",
       "</style>\n",
       "<table border=\"1\" class=\"dataframe\">\n",
       "  <thead>\n",
       "    <tr style=\"text-align: right;\">\n",
       "      <th></th>\n",
       "      <th>user_id</th>\n",
       "      <th>event_dt</th>\n",
       "      <th>event_name</th>\n",
       "      <th>details</th>\n",
       "    </tr>\n",
       "  </thead>\n",
       "  <tbody>\n",
       "    <tr>\n",
       "      <th>90239</th>\n",
       "      <td>E1159E32EB27E60D</td>\n",
       "      <td>2020-12-18 12:21:18</td>\n",
       "      <td>product_cart</td>\n",
       "      <td>NaN</td>\n",
       "    </tr>\n",
       "    <tr>\n",
       "      <th>66490</th>\n",
       "      <td>54B78696954828D2</td>\n",
       "      <td>2020-12-10 10:11:59</td>\n",
       "      <td>product_cart</td>\n",
       "      <td>NaN</td>\n",
       "    </tr>\n",
       "    <tr>\n",
       "      <th>66782</th>\n",
       "      <td>BBB4061D3005F91F</td>\n",
       "      <td>2020-12-10 07:52:52</td>\n",
       "      <td>product_cart</td>\n",
       "      <td>NaN</td>\n",
       "    </tr>\n",
       "    <tr>\n",
       "      <th>316921</th>\n",
       "      <td>E19AC6E5C305D1B3</td>\n",
       "      <td>2020-12-17 09:13:49</td>\n",
       "      <td>login</td>\n",
       "      <td>NaN</td>\n",
       "    </tr>\n",
       "    <tr>\n",
       "      <th>218898</th>\n",
       "      <td>202781464CA63932</td>\n",
       "      <td>2020-12-23 02:05:20</td>\n",
       "      <td>product_page</td>\n",
       "      <td>NaN</td>\n",
       "    </tr>\n",
       "  </tbody>\n",
       "</table>\n",
       "</div>"
      ],
      "text/plain": [
       "                 user_id             event_dt    event_name  details\n",
       "90239   E1159E32EB27E60D  2020-12-18 12:21:18  product_cart      NaN\n",
       "66490   54B78696954828D2  2020-12-10 10:11:59  product_cart      NaN\n",
       "66782   BBB4061D3005F91F  2020-12-10 07:52:52  product_cart      NaN\n",
       "316921  E19AC6E5C305D1B3  2020-12-17 09:13:49         login      NaN\n",
       "218898  202781464CA63932  2020-12-23 02:05:20  product_page      NaN"
      ]
     },
     "execution_count": 12,
     "metadata": {},
     "output_type": "execute_result"
    }
   ],
   "source": [
    "ab_events.info()\n",
    "\n",
    "ab_events.sample(5)"
   ]
  },
  {
   "cell_type": "markdown",
   "metadata": {},
   "source": [
    "This dataset contains 4 columns and 423,762 rows, including user ID, event date, event name, and details.\n",
    "\n",
    "Apparently, there are missing values.\n",
    "\n",
    "Let’s check the quantity of missing data and convert the date values to `datetime`."
   ]
  },
  {
   "cell_type": "code",
   "execution_count": 11,
   "metadata": {},
   "outputs": [
    {
     "name": "stdout",
     "output_type": "stream",
     "text": [
      "<class 'pandas.core.frame.DataFrame'>\n",
      "RangeIndex: 58703 entries, 0 to 58702\n",
      "Data columns (total 4 columns):\n",
      " #   Column      Non-Null Count  Dtype         \n",
      "---  ------      --------------  -----         \n",
      " 0   user_id     58703 non-null  object        \n",
      " 1   first_date  58703 non-null  datetime64[ns]\n",
      " 2   region      58703 non-null  object        \n",
      " 3   device      58703 non-null  object        \n",
      "dtypes: datetime64[ns](1), object(3)\n",
      "memory usage: 1.8+ MB\n"
     ]
    }
   ],
   "source": [
    "convert_time(ab_new_users, ['first_date'])\n",
    "\n",
    "ab_new_users.info()"
   ]
  },
  {
   "cell_type": "code",
   "execution_count": 13,
   "metadata": {},
   "outputs": [
    {
     "name": "stdout",
     "output_type": "stream",
     "text": [
      "Null data user_id            0\n",
      "event_dt           0\n",
      "event_name         0\n",
      "details       363447\n",
      "dtype: int64\n",
      "\n",
      "Duplicated data 0\n"
     ]
    }
   ],
   "source": [
    "print(f'Null data', ab_events.isna().sum())\n",
    "print()\n",
    "print(f'Duplicated data', ab_events.duplicated().sum())"
   ]
  },
  {
   "cell_type": "markdown",
   "metadata": {},
   "source": [
    "In the `details` column, there are 363,447 null values.  \n",
    "Let’s take a closer look at these data to decide which approach to take regarding them."
   ]
  },
  {
   "cell_type": "code",
   "execution_count": 14,
   "metadata": {},
   "outputs": [
    {
     "name": "stdout",
     "output_type": "stream",
     "text": [
      "Missing data rows: ['product_cart' 'product_page' 'login']\n"
     ]
    }
   ],
   "source": [
    "missing_details = ab_events[ab_events['details'].isna()]\n",
    "\n",
    "print(f'Missing data rows:', missing_details['event_name'].unique())"
   ]
  },
  {
   "cell_type": "code",
   "execution_count": 15,
   "metadata": {},
   "outputs": [
    {
     "data": {
      "application/vnd.microsoft.datawrangler.viewer.v0+json": {
       "columns": [
        {
         "name": "index",
         "rawType": "int64",
         "type": "integer"
        },
        {
         "name": "user_id",
         "rawType": "object",
         "type": "string"
        },
        {
         "name": "event_dt",
         "rawType": "object",
         "type": "string"
        },
        {
         "name": "event_name",
         "rawType": "object",
         "type": "string"
        },
        {
         "name": "details",
         "rawType": "float64",
         "type": "float"
        }
       ],
       "ref": "d219fbb0-49fd-4e9c-8ea4-fe51c4a9cefe",
       "rows": [
        [
         "0",
         "E1BDDCE0DAFA2679",
         "2020-12-07 20:22:03",
         "purchase",
         "99.99"
        ],
        [
         "1",
         "7B6452F081F49504",
         "2020-12-07 09:22:53",
         "purchase",
         "9.99"
        ],
        [
         "2",
         "9CD9F34546DF254C",
         "2020-12-07 12:59:29",
         "purchase",
         "4.99"
        ],
        [
         "3",
         "96F27A054B191457",
         "2020-12-07 04:02:40",
         "purchase",
         "4.99"
        ],
        [
         "4",
         "1FD7660FDF94CA1F",
         "2020-12-07 10:15:09",
         "purchase",
         "4.99"
        ]
       ],
       "shape": {
        "columns": 4,
        "rows": 5
       }
      },
      "text/html": [
       "<div>\n",
       "<style scoped>\n",
       "    .dataframe tbody tr th:only-of-type {\n",
       "        vertical-align: middle;\n",
       "    }\n",
       "\n",
       "    .dataframe tbody tr th {\n",
       "        vertical-align: top;\n",
       "    }\n",
       "\n",
       "    .dataframe thead th {\n",
       "        text-align: right;\n",
       "    }\n",
       "</style>\n",
       "<table border=\"1\" class=\"dataframe\">\n",
       "  <thead>\n",
       "    <tr style=\"text-align: right;\">\n",
       "      <th></th>\n",
       "      <th>user_id</th>\n",
       "      <th>event_dt</th>\n",
       "      <th>event_name</th>\n",
       "      <th>details</th>\n",
       "    </tr>\n",
       "  </thead>\n",
       "  <tbody>\n",
       "    <tr>\n",
       "      <th>0</th>\n",
       "      <td>E1BDDCE0DAFA2679</td>\n",
       "      <td>2020-12-07 20:22:03</td>\n",
       "      <td>purchase</td>\n",
       "      <td>99.99</td>\n",
       "    </tr>\n",
       "    <tr>\n",
       "      <th>1</th>\n",
       "      <td>7B6452F081F49504</td>\n",
       "      <td>2020-12-07 09:22:53</td>\n",
       "      <td>purchase</td>\n",
       "      <td>9.99</td>\n",
       "    </tr>\n",
       "    <tr>\n",
       "      <th>2</th>\n",
       "      <td>9CD9F34546DF254C</td>\n",
       "      <td>2020-12-07 12:59:29</td>\n",
       "      <td>purchase</td>\n",
       "      <td>4.99</td>\n",
       "    </tr>\n",
       "    <tr>\n",
       "      <th>3</th>\n",
       "      <td>96F27A054B191457</td>\n",
       "      <td>2020-12-07 04:02:40</td>\n",
       "      <td>purchase</td>\n",
       "      <td>4.99</td>\n",
       "    </tr>\n",
       "    <tr>\n",
       "      <th>4</th>\n",
       "      <td>1FD7660FDF94CA1F</td>\n",
       "      <td>2020-12-07 10:15:09</td>\n",
       "      <td>purchase</td>\n",
       "      <td>4.99</td>\n",
       "    </tr>\n",
       "  </tbody>\n",
       "</table>\n",
       "</div>"
      ],
      "text/plain": [
       "            user_id             event_dt event_name  details\n",
       "0  E1BDDCE0DAFA2679  2020-12-07 20:22:03   purchase    99.99\n",
       "1  7B6452F081F49504  2020-12-07 09:22:53   purchase     9.99\n",
       "2  9CD9F34546DF254C  2020-12-07 12:59:29   purchase     4.99\n",
       "3  96F27A054B191457  2020-12-07 04:02:40   purchase     4.99\n",
       "4  1FD7660FDF94CA1F  2020-12-07 10:15:09   purchase     4.99"
      ]
     },
     "execution_count": 15,
     "metadata": {},
     "output_type": "execute_result"
    }
   ],
   "source": [
    "not_missing = ab_events.dropna()\n",
    "\n",
    "not_missing.head()"
   ]
  },
  {
   "cell_type": "markdown",
   "metadata": {},
   "source": [
    "By applying this filter, we can see that the missing data come from events that are not related to purchases and therefore do not require additional information (such as price, for example).  \n",
    "Thus, we can fill these values with `0` so that the data are not empty and do not negatively impact the analysis in the future."
   ]
  },
  {
   "cell_type": "code",
   "execution_count": null,
   "metadata": {},
   "outputs": [
    {
     "name": "stdout",
     "output_type": "stream",
     "text": [
      "Dados nulos user_id       0\n",
      "event_dt      0\n",
      "event_name    0\n",
      "details       0\n",
      "dtype: int64\n",
      "\n",
      "Dados duplicados 0\n",
      "\n"
     ]
    }
   ],
   "source": [
    "ab_events = ab_events.fillna(0)\n",
    "\n",
    "print(f'Null data', ab_events.isna().sum())\n",
    "print()\n",
    "print(f'Duplicated data',ab_events.duplicated().sum())\n",
    "print()"
   ]
  },
  {
   "cell_type": "code",
   "execution_count": 16,
   "metadata": {},
   "outputs": [
    {
     "name": "stdout",
     "output_type": "stream",
     "text": [
      "Quantity of missing data: 363447\n",
      "Share of total: 85.8%\n"
     ]
    }
   ],
   "source": [
    "print('Quantity of missing data:', missing_details['user_id'].count())\n",
    "print(f'Share of total: {(missing_details['user_id'].count()) / (ab_events['user_id'].count()):.1%}')\n"
   ]
  },
  {
   "cell_type": "markdown",
   "metadata": {},
   "source": [
    "Let's analyze all the data sets to get a macro view:"
   ]
  },
  {
   "cell_type": "code",
   "execution_count": 17,
   "metadata": {},
   "outputs": [
    {
     "name": "stdout",
     "output_type": "stream",
     "text": [
      "User Events\n"
     ]
    },
    {
     "data": {
      "application/vnd.microsoft.datawrangler.viewer.v0+json": {
       "columns": [
        {
         "name": "index",
         "rawType": "int64",
         "type": "integer"
        },
        {
         "name": "user_id",
         "rawType": "object",
         "type": "string"
        },
        {
         "name": "event_dt",
         "rawType": "object",
         "type": "string"
        },
        {
         "name": "event_name",
         "rawType": "object",
         "type": "string"
        },
        {
         "name": "details",
         "rawType": "float64",
         "type": "float"
        }
       ],
       "ref": "a5840617-989a-4c1a-b147-5a1e371343b1",
       "rows": [
        [
         "376990",
         "FD3381AC7E6E14FB",
         "2020-12-22 08:52:22",
         "login",
         null
        ],
        [
         "193307",
         "FE086DAFFDBEB075",
         "2020-12-20 11:37:15",
         "product_page",
         null
        ],
        [
         "161162",
         "95D698601071F761",
         "2020-12-15 09:34:29",
         "product_page",
         null
        ],
        [
         "282470",
         "72E2BD1D940702A0",
         "2020-12-13 07:30:20",
         "login",
         null
        ],
        [
         "152246",
         "707423A96043F800",
         "2020-12-14 20:15:54",
         "product_page",
         null
        ]
       ],
       "shape": {
        "columns": 4,
        "rows": 5
       }
      },
      "text/html": [
       "<div>\n",
       "<style scoped>\n",
       "    .dataframe tbody tr th:only-of-type {\n",
       "        vertical-align: middle;\n",
       "    }\n",
       "\n",
       "    .dataframe tbody tr th {\n",
       "        vertical-align: top;\n",
       "    }\n",
       "\n",
       "    .dataframe thead th {\n",
       "        text-align: right;\n",
       "    }\n",
       "</style>\n",
       "<table border=\"1\" class=\"dataframe\">\n",
       "  <thead>\n",
       "    <tr style=\"text-align: right;\">\n",
       "      <th></th>\n",
       "      <th>user_id</th>\n",
       "      <th>event_dt</th>\n",
       "      <th>event_name</th>\n",
       "      <th>details</th>\n",
       "    </tr>\n",
       "  </thead>\n",
       "  <tbody>\n",
       "    <tr>\n",
       "      <th>376990</th>\n",
       "      <td>FD3381AC7E6E14FB</td>\n",
       "      <td>2020-12-22 08:52:22</td>\n",
       "      <td>login</td>\n",
       "      <td>NaN</td>\n",
       "    </tr>\n",
       "    <tr>\n",
       "      <th>193307</th>\n",
       "      <td>FE086DAFFDBEB075</td>\n",
       "      <td>2020-12-20 11:37:15</td>\n",
       "      <td>product_page</td>\n",
       "      <td>NaN</td>\n",
       "    </tr>\n",
       "    <tr>\n",
       "      <th>161162</th>\n",
       "      <td>95D698601071F761</td>\n",
       "      <td>2020-12-15 09:34:29</td>\n",
       "      <td>product_page</td>\n",
       "      <td>NaN</td>\n",
       "    </tr>\n",
       "    <tr>\n",
       "      <th>282470</th>\n",
       "      <td>72E2BD1D940702A0</td>\n",
       "      <td>2020-12-13 07:30:20</td>\n",
       "      <td>login</td>\n",
       "      <td>NaN</td>\n",
       "    </tr>\n",
       "    <tr>\n",
       "      <th>152246</th>\n",
       "      <td>707423A96043F800</td>\n",
       "      <td>2020-12-14 20:15:54</td>\n",
       "      <td>product_page</td>\n",
       "      <td>NaN</td>\n",
       "    </tr>\n",
       "  </tbody>\n",
       "</table>\n",
       "</div>"
      ],
      "text/plain": [
       "                 user_id             event_dt    event_name  details\n",
       "376990  FD3381AC7E6E14FB  2020-12-22 08:52:22         login      NaN\n",
       "193307  FE086DAFFDBEB075  2020-12-20 11:37:15  product_page      NaN\n",
       "161162  95D698601071F761  2020-12-15 09:34:29  product_page      NaN\n",
       "282470  72E2BD1D940702A0  2020-12-13 07:30:20         login      NaN\n",
       "152246  707423A96043F800  2020-12-14 20:15:54  product_page      NaN"
      ]
     },
     "metadata": {},
     "output_type": "display_data"
    },
    {
     "name": "stdout",
     "output_type": "stream",
     "text": [
      "\n",
      "New users\n"
     ]
    },
    {
     "data": {
      "application/vnd.microsoft.datawrangler.viewer.v0+json": {
       "columns": [
        {
         "name": "index",
         "rawType": "int64",
         "type": "integer"
        },
        {
         "name": "user_id",
         "rawType": "object",
         "type": "string"
        },
        {
         "name": "first_date",
         "rawType": "datetime64[ns]",
         "type": "datetime"
        },
        {
         "name": "region",
         "rawType": "object",
         "type": "string"
        },
        {
         "name": "device",
         "rawType": "object",
         "type": "string"
        }
       ],
       "ref": "79204796-a5a2-4cbe-8144-4cc740b97481",
       "rows": [
        [
         "20677",
         "6789946619BFC208",
         "2020-12-15 00:00:00",
         "EU",
         "Android"
        ],
        [
         "50216",
         "F1331F994344FE31",
         "2020-12-19 00:00:00",
         "CIS",
         "PC"
        ],
        [
         "49127",
         "2508307EADE88F17",
         "2020-12-19 00:00:00",
         "EU",
         "Android"
        ],
        [
         "39502",
         "72FB9A89D5A7E421",
         "2020-12-11 00:00:00",
         "EU",
         "iPhone"
        ],
        [
         "33542",
         "A53EE1B18564A48E",
         "2020-12-10 00:00:00",
         "EU",
         "Android"
        ]
       ],
       "shape": {
        "columns": 4,
        "rows": 5
       }
      },
      "text/html": [
       "<div>\n",
       "<style scoped>\n",
       "    .dataframe tbody tr th:only-of-type {\n",
       "        vertical-align: middle;\n",
       "    }\n",
       "\n",
       "    .dataframe tbody tr th {\n",
       "        vertical-align: top;\n",
       "    }\n",
       "\n",
       "    .dataframe thead th {\n",
       "        text-align: right;\n",
       "    }\n",
       "</style>\n",
       "<table border=\"1\" class=\"dataframe\">\n",
       "  <thead>\n",
       "    <tr style=\"text-align: right;\">\n",
       "      <th></th>\n",
       "      <th>user_id</th>\n",
       "      <th>first_date</th>\n",
       "      <th>region</th>\n",
       "      <th>device</th>\n",
       "    </tr>\n",
       "  </thead>\n",
       "  <tbody>\n",
       "    <tr>\n",
       "      <th>20677</th>\n",
       "      <td>6789946619BFC208</td>\n",
       "      <td>2020-12-15</td>\n",
       "      <td>EU</td>\n",
       "      <td>Android</td>\n",
       "    </tr>\n",
       "    <tr>\n",
       "      <th>50216</th>\n",
       "      <td>F1331F994344FE31</td>\n",
       "      <td>2020-12-19</td>\n",
       "      <td>CIS</td>\n",
       "      <td>PC</td>\n",
       "    </tr>\n",
       "    <tr>\n",
       "      <th>49127</th>\n",
       "      <td>2508307EADE88F17</td>\n",
       "      <td>2020-12-19</td>\n",
       "      <td>EU</td>\n",
       "      <td>Android</td>\n",
       "    </tr>\n",
       "    <tr>\n",
       "      <th>39502</th>\n",
       "      <td>72FB9A89D5A7E421</td>\n",
       "      <td>2020-12-11</td>\n",
       "      <td>EU</td>\n",
       "      <td>iPhone</td>\n",
       "    </tr>\n",
       "    <tr>\n",
       "      <th>33542</th>\n",
       "      <td>A53EE1B18564A48E</td>\n",
       "      <td>2020-12-10</td>\n",
       "      <td>EU</td>\n",
       "      <td>Android</td>\n",
       "    </tr>\n",
       "  </tbody>\n",
       "</table>\n",
       "</div>"
      ],
      "text/plain": [
       "                user_id first_date region   device\n",
       "20677  6789946619BFC208 2020-12-15     EU  Android\n",
       "50216  F1331F994344FE31 2020-12-19    CIS       PC\n",
       "49127  2508307EADE88F17 2020-12-19     EU  Android\n",
       "39502  72FB9A89D5A7E421 2020-12-11     EU   iPhone\n",
       "33542  A53EE1B18564A48E 2020-12-10     EU  Android"
      ]
     },
     "metadata": {},
     "output_type": "display_data"
    },
    {
     "name": "stdout",
     "output_type": "stream",
     "text": [
      "\n",
      "Test participants\n"
     ]
    },
    {
     "data": {
      "application/vnd.microsoft.datawrangler.viewer.v0+json": {
       "columns": [
        {
         "name": "index",
         "rawType": "int64",
         "type": "integer"
        },
        {
         "name": "user_id",
         "rawType": "object",
         "type": "string"
        },
        {
         "name": "group",
         "rawType": "object",
         "type": "string"
        },
        {
         "name": "ab_test",
         "rawType": "object",
         "type": "string"
        }
       ],
       "ref": "dcf82fde-b40d-418c-a402-f8a141b619f9",
       "rows": [
        [
         "11537",
         "2316A9DAADBCA278",
         "B",
         "interface_eu_test"
        ],
        [
         "1503",
         "7963560AC5D4166E",
         "B",
         "recommender_system_test"
        ],
        [
         "6504",
         "64D39595B31D9ECE",
         "A",
         "interface_eu_test"
        ],
        [
         "6071",
         "7C9225B32EAA5277",
         "B",
         "interface_eu_test"
        ],
        [
         "8111",
         "3F930D9D6D1F1262",
         "A",
         "interface_eu_test"
        ]
       ],
       "shape": {
        "columns": 3,
        "rows": 5
       }
      },
      "text/html": [
       "<div>\n",
       "<style scoped>\n",
       "    .dataframe tbody tr th:only-of-type {\n",
       "        vertical-align: middle;\n",
       "    }\n",
       "\n",
       "    .dataframe tbody tr th {\n",
       "        vertical-align: top;\n",
       "    }\n",
       "\n",
       "    .dataframe thead th {\n",
       "        text-align: right;\n",
       "    }\n",
       "</style>\n",
       "<table border=\"1\" class=\"dataframe\">\n",
       "  <thead>\n",
       "    <tr style=\"text-align: right;\">\n",
       "      <th></th>\n",
       "      <th>user_id</th>\n",
       "      <th>group</th>\n",
       "      <th>ab_test</th>\n",
       "    </tr>\n",
       "  </thead>\n",
       "  <tbody>\n",
       "    <tr>\n",
       "      <th>11537</th>\n",
       "      <td>2316A9DAADBCA278</td>\n",
       "      <td>B</td>\n",
       "      <td>interface_eu_test</td>\n",
       "    </tr>\n",
       "    <tr>\n",
       "      <th>1503</th>\n",
       "      <td>7963560AC5D4166E</td>\n",
       "      <td>B</td>\n",
       "      <td>recommender_system_test</td>\n",
       "    </tr>\n",
       "    <tr>\n",
       "      <th>6504</th>\n",
       "      <td>64D39595B31D9ECE</td>\n",
       "      <td>A</td>\n",
       "      <td>interface_eu_test</td>\n",
       "    </tr>\n",
       "    <tr>\n",
       "      <th>6071</th>\n",
       "      <td>7C9225B32EAA5277</td>\n",
       "      <td>B</td>\n",
       "      <td>interface_eu_test</td>\n",
       "    </tr>\n",
       "    <tr>\n",
       "      <th>8111</th>\n",
       "      <td>3F930D9D6D1F1262</td>\n",
       "      <td>A</td>\n",
       "      <td>interface_eu_test</td>\n",
       "    </tr>\n",
       "  </tbody>\n",
       "</table>\n",
       "</div>"
      ],
      "text/plain": [
       "                user_id group                  ab_test\n",
       "11537  2316A9DAADBCA278     B        interface_eu_test\n",
       "1503   7963560AC5D4166E     B  recommender_system_test\n",
       "6504   64D39595B31D9ECE     A        interface_eu_test\n",
       "6071   7C9225B32EAA5277     B        interface_eu_test\n",
       "8111   3F930D9D6D1F1262     A        interface_eu_test"
      ]
     },
     "metadata": {},
     "output_type": "display_data"
    },
    {
     "name": "stdout",
     "output_type": "stream",
     "text": [
      "\n",
      "Marketing Events\n"
     ]
    },
    {
     "data": {
      "application/vnd.microsoft.datawrangler.viewer.v0+json": {
       "columns": [
        {
         "name": "index",
         "rawType": "int64",
         "type": "integer"
        },
        {
         "name": "name",
         "rawType": "object",
         "type": "string"
        },
        {
         "name": "regions",
         "rawType": "object",
         "type": "string"
        },
        {
         "name": "start_dt",
         "rawType": "datetime64[ns]",
         "type": "datetime"
        },
        {
         "name": "finish_dt",
         "rawType": "datetime64[ns]",
         "type": "datetime"
        }
       ],
       "ref": "bfd50733-9cf8-4ff5-a2fa-5b32ccc3274c",
       "rows": [
        [
         "12",
         "Single's Day Gift Promo",
         "APAC",
         "2020-11-11 00:00:00",
         "2020-11-12 00:00:00"
        ],
        [
         "1",
         "St. Valentine's Day Giveaway",
         "EU, CIS, APAC, N.America",
         "2020-02-14 00:00:00",
         "2020-02-16 00:00:00"
        ],
        [
         "3",
         "Easter Promo",
         "EU, CIS, APAC, N.America",
         "2020-04-12 00:00:00",
         "2020-04-19 00:00:00"
        ],
        [
         "9",
         "Victory Day CIS (May 9th) Event",
         "CIS",
         "2020-05-09 00:00:00",
         "2020-05-11 00:00:00"
        ],
        [
         "7",
         "Labor day (May 1st) Ads Campaign",
         "EU, CIS, APAC",
         "2020-05-01 00:00:00",
         "2020-05-03 00:00:00"
        ]
       ],
       "shape": {
        "columns": 4,
        "rows": 5
       }
      },
      "text/html": [
       "<div>\n",
       "<style scoped>\n",
       "    .dataframe tbody tr th:only-of-type {\n",
       "        vertical-align: middle;\n",
       "    }\n",
       "\n",
       "    .dataframe tbody tr th {\n",
       "        vertical-align: top;\n",
       "    }\n",
       "\n",
       "    .dataframe thead th {\n",
       "        text-align: right;\n",
       "    }\n",
       "</style>\n",
       "<table border=\"1\" class=\"dataframe\">\n",
       "  <thead>\n",
       "    <tr style=\"text-align: right;\">\n",
       "      <th></th>\n",
       "      <th>name</th>\n",
       "      <th>regions</th>\n",
       "      <th>start_dt</th>\n",
       "      <th>finish_dt</th>\n",
       "    </tr>\n",
       "  </thead>\n",
       "  <tbody>\n",
       "    <tr>\n",
       "      <th>12</th>\n",
       "      <td>Single's Day Gift Promo</td>\n",
       "      <td>APAC</td>\n",
       "      <td>2020-11-11</td>\n",
       "      <td>2020-11-12</td>\n",
       "    </tr>\n",
       "    <tr>\n",
       "      <th>1</th>\n",
       "      <td>St. Valentine's Day Giveaway</td>\n",
       "      <td>EU, CIS, APAC, N.America</td>\n",
       "      <td>2020-02-14</td>\n",
       "      <td>2020-02-16</td>\n",
       "    </tr>\n",
       "    <tr>\n",
       "      <th>3</th>\n",
       "      <td>Easter Promo</td>\n",
       "      <td>EU, CIS, APAC, N.America</td>\n",
       "      <td>2020-04-12</td>\n",
       "      <td>2020-04-19</td>\n",
       "    </tr>\n",
       "    <tr>\n",
       "      <th>9</th>\n",
       "      <td>Victory Day CIS (May 9th) Event</td>\n",
       "      <td>CIS</td>\n",
       "      <td>2020-05-09</td>\n",
       "      <td>2020-05-11</td>\n",
       "    </tr>\n",
       "    <tr>\n",
       "      <th>7</th>\n",
       "      <td>Labor day (May 1st) Ads Campaign</td>\n",
       "      <td>EU, CIS, APAC</td>\n",
       "      <td>2020-05-01</td>\n",
       "      <td>2020-05-03</td>\n",
       "    </tr>\n",
       "  </tbody>\n",
       "</table>\n",
       "</div>"
      ],
      "text/plain": [
       "                                name                   regions   start_dt  \\\n",
       "12           Single's Day Gift Promo                      APAC 2020-11-11   \n",
       "1       St. Valentine's Day Giveaway  EU, CIS, APAC, N.America 2020-02-14   \n",
       "3                       Easter Promo  EU, CIS, APAC, N.America 2020-04-12   \n",
       "9    Victory Day CIS (May 9th) Event                       CIS 2020-05-09   \n",
       "7   Labor day (May 1st) Ads Campaign             EU, CIS, APAC 2020-05-01   \n",
       "\n",
       "    finish_dt  \n",
       "12 2020-11-12  \n",
       "1  2020-02-16  \n",
       "3  2020-04-19  \n",
       "9  2020-05-11  \n",
       "7  2020-05-03  "
      ]
     },
     "metadata": {},
     "output_type": "display_data"
    },
    {
     "name": "stdout",
     "output_type": "stream",
     "text": [
      "\n"
     ]
    }
   ],
   "source": [
    "print('User Events')\n",
    "display(ab_events.sample(5))\n",
    "print()\n",
    "print('New users')\n",
    "display(ab_new_users.sample(5))\n",
    "print()\n",
    "print('Test participants')\n",
    "display(ab_participants.sample(5))\n",
    "print()\n",
    "print('Marketing Events')\n",
    "display(ab_mkt_events.sample(5))\n",
    "print()"
   ]
  },
  {
   "cell_type": "markdown",
   "metadata": {},
   "source": [
    "#### ETL Conclusion\n",
    "\n",
    "With the `ab_events` and `ab_participants` dataframes, we will be able to perform a thorough analysis of each group's behavior.  \n",
    "We need to check if there are participants from group A in group B and vice versa to ensure the integrity of the test.  \n",
    "\n",
    "Additionally, we will be able to answer whether the funnel stage `product_page → product_cart → purchase` actually had a 10% increase, after separating the groups and analyzing the behavior of new users with the `ab_new_users` dataframe and the behavior of all users during promotional periods with the `ab_mkt_event` dataframe.\n"
   ]
  },
  {
   "cell_type": "markdown",
   "metadata": {},
   "source": [
    "### Step 2:\n",
    "#### - Perform exploratory data analysis:\n",
    "- Study the conversion rates at different stages of the funnel.\n",
    "- Are users from both samples present?"
   ]
  },
  {
   "cell_type": "markdown",
   "metadata": {},
   "source": [
    "Before we start analyzing the data, it is important to check if there are users present in both tests simultaneously.\n",
    "\n",
    "Let's check how many participants from each group there are in each test, and then check how many participated in both groups and what % of the total number of participants they represent."
   ]
  },
  {
   "cell_type": "code",
   "execution_count": 18,
   "metadata": {},
   "outputs": [
    {
     "data": {
      "text/html": [
       "<div>\n",
       "<style scoped>\n",
       "    .dataframe tbody tr th:only-of-type {\n",
       "        vertical-align: middle;\n",
       "    }\n",
       "\n",
       "    .dataframe tbody tr th {\n",
       "        vertical-align: top;\n",
       "    }\n",
       "\n",
       "    .dataframe thead th {\n",
       "        text-align: right;\n",
       "    }\n",
       "</style>\n",
       "<table border=\"1\" class=\"dataframe\">\n",
       "  <thead>\n",
       "    <tr style=\"text-align: right;\">\n",
       "      <th></th>\n",
       "      <th>ab_test</th>\n",
       "      <th>group</th>\n",
       "      <th>user_id</th>\n",
       "    </tr>\n",
       "  </thead>\n",
       "  <tbody>\n",
       "    <tr>\n",
       "      <th>0</th>\n",
       "      <td>interface_eu_test</td>\n",
       "      <td>A</td>\n",
       "      <td>5467</td>\n",
       "    </tr>\n",
       "    <tr>\n",
       "      <th>1</th>\n",
       "      <td>interface_eu_test</td>\n",
       "      <td>B</td>\n",
       "      <td>5383</td>\n",
       "    </tr>\n",
       "    <tr>\n",
       "      <th>2</th>\n",
       "      <td>recommender_system_test</td>\n",
       "      <td>A</td>\n",
       "      <td>2747</td>\n",
       "    </tr>\n",
       "    <tr>\n",
       "      <th>3</th>\n",
       "      <td>recommender_system_test</td>\n",
       "      <td>B</td>\n",
       "      <td>928</td>\n",
       "    </tr>\n",
       "  </tbody>\n",
       "</table>\n",
       "</div>"
      ],
      "text/plain": [
       "                   ab_test group  user_id\n",
       "0        interface_eu_test     A     5467\n",
       "1        interface_eu_test     B     5383\n",
       "2  recommender_system_test     A     2747\n",
       "3  recommender_system_test     B      928"
      ]
     },
     "execution_count": 18,
     "metadata": {},
     "output_type": "execute_result"
    }
   ],
   "source": [
    "ab_verify = ab_participants.groupby(['ab_test', 'group'])['user_id'].count().reset_index()\n",
    "ab_verify"
   ]
  },
  {
   "cell_type": "code",
   "execution_count": 18,
   "metadata": {},
   "outputs": [
    {
     "name": "stdout",
     "output_type": "stream",
     "text": [
      "Number of unique users: 13638\n",
      "Number of participants who took part in both tests: 887\n",
      "How many % do they represent in total: 6.1%\n"
     ]
    }
   ],
   "source": [
    "print('Number of unique users:', ab_participants['user_id'].nunique())\n",
    "\n",
    "ab_duplicated = ab_participants['user_id'].duplicated().sum()\n",
    "\n",
    "print('Number of participants who took part in both tests:', ab_duplicated)\n",
    "print(f'How many % do they represent in total: {ab_duplicated / len(ab_participants):.1%}')\n"
   ]
  },
  {
   "cell_type": "markdown",
   "metadata": {},
   "source": [
    "This data represents only 6.1% of our participants. We will eliminate it to ensure the integrity of the results."
   ]
  },
  {
   "cell_type": "code",
   "execution_count": 19,
   "metadata": {},
   "outputs": [
    {
     "name": "stdout",
     "output_type": "stream",
     "text": [
      "Number of unique users after eliminating those who participated in both tests: 12751\n"
     ]
    }
   ],
   "source": [
    "ab_participants = ab_participants[~ab_participants['user_id'].duplicated(keep=False)]\n",
    "\n",
    "print('Number of unique users after eliminating those who participated in both tests:', ab_participants['user_id'].nunique())"
   ]
  },
  {
   "cell_type": "markdown",
   "metadata": {},
   "source": [
    "Let's filter users who are from EU"
   ]
  },
  {
   "cell_type": "code",
   "execution_count": 28,
   "metadata": {},
   "outputs": [],
   "source": [
    "eu_ab_new_users = ab_new_users[ab_new_users['region'] == 'EU']"
   ]
  },
  {
   "cell_type": "markdown",
   "metadata": {},
   "source": [
    "Filtering tests from only 'recommender_system_test"
   ]
  },
  {
   "cell_type": "code",
   "execution_count": 26,
   "metadata": {},
   "outputs": [],
   "source": [
    "rst_ab_participants = ab_participants[ab_participants['ab_test'] =='recommender_system_test']"
   ]
  },
  {
   "cell_type": "markdown",
   "metadata": {},
   "source": [
    "Let's count how many users we have left now that we have eliminated other regions and another test:"
   ]
  },
  {
   "cell_type": "code",
   "execution_count": 29,
   "metadata": {},
   "outputs": [
    {
     "name": "stdout",
     "output_type": "stream",
     "text": [
      "43396\n",
      "2788\n"
     ]
    }
   ],
   "source": [
    "print(eu_ab_new_users['user_id'].nunique())\n",
    "print(rst_ab_participants['user_id'].count())"
   ]
  },
  {
   "cell_type": "markdown",
   "metadata": {},
   "source": [
    "Check start and end dates"
   ]
  },
  {
   "cell_type": "code",
   "execution_count": 20,
   "metadata": {},
   "outputs": [
    {
     "name": "stdout",
     "output_type": "stream",
     "text": [
      "min date 2020-12-07 00:00:33\n",
      "\n",
      "max date 2020-12-30 23:36:33\n"
     ]
    }
   ],
   "source": [
    "print('min date', ab_events['event_dt'].min())\n",
    "print()\n",
    "print('max date', ab_events['event_dt'].max())"
   ]
  },
  {
   "cell_type": "markdown",
   "metadata": {},
   "source": [
    "Although the description says that the data is from 12/07/202 to 01/01/2021, the data only goes up to December 30th"
   ]
  },
  {
   "cell_type": "markdown",
   "metadata": {},
   "source": [
    "We will filter the data so that it is from 14 days after registration."
   ]
  },
  {
   "cell_type": "code",
   "execution_count": 22,
   "metadata": {},
   "outputs": [],
   "source": [
    "first_fourteen = ab_events.groupby('user_id')['event_dt'].min().reset_index()\n",
    "first_fourteen.rename(columns={'event_dt': 'first_date_event'}, inplace=True)\n",
    "\n",
    "ab_events_14 = ab_events.merge(first_fourteen, on='user_id', how='left')\n",
    "\n",
    "\n"
   ]
  },
  {
   "cell_type": "code",
   "execution_count": 23,
   "metadata": {},
   "outputs": [
    {
     "data": {
      "application/vnd.microsoft.datawrangler.viewer.v0+json": {
       "columns": [
        {
         "name": "index",
         "rawType": "int64",
         "type": "integer"
        },
        {
         "name": "user_id",
         "rawType": "object",
         "type": "string"
        },
        {
         "name": "event_dt",
         "rawType": "datetime64[ns]",
         "type": "datetime"
        },
        {
         "name": "event_name",
         "rawType": "object",
         "type": "string"
        },
        {
         "name": "details",
         "rawType": "float64",
         "type": "float"
        },
        {
         "name": "first_date_event",
         "rawType": "datetime64[ns]",
         "type": "datetime"
        }
       ],
       "ref": "fadcf75d-fce0-4416-9bd2-7140cef0387b",
       "rows": [
        [
         "335244",
         "6644BB24A167AD19",
         "2020-12-19 06:36:42",
         "login",
         null,
         "2020-12-07 19:16:59"
        ],
        [
         "317257",
         "125E256140851A14",
         "2020-12-17 22:35:24",
         "login",
         null,
         "2020-12-14 07:06:11"
        ],
        [
         "284011",
         "945821BBDF122986",
         "2020-12-13 10:57:44",
         "login",
         null,
         "2020-12-13 10:57:44"
        ],
        [
         "391754",
         "7064F7D817BDABCE",
         "2020-12-23 04:04:31",
         "login",
         null,
         "2020-12-17 20:22:30"
        ],
        [
         "354167",
         "B6D0310031055653",
         "2020-12-20 14:54:08",
         "login",
         null,
         "2020-12-20 14:54:08"
        ]
       ],
       "shape": {
        "columns": 5,
        "rows": 5
       }
      },
      "text/html": [
       "<div>\n",
       "<style scoped>\n",
       "    .dataframe tbody tr th:only-of-type {\n",
       "        vertical-align: middle;\n",
       "    }\n",
       "\n",
       "    .dataframe tbody tr th {\n",
       "        vertical-align: top;\n",
       "    }\n",
       "\n",
       "    .dataframe thead th {\n",
       "        text-align: right;\n",
       "    }\n",
       "</style>\n",
       "<table border=\"1\" class=\"dataframe\">\n",
       "  <thead>\n",
       "    <tr style=\"text-align: right;\">\n",
       "      <th></th>\n",
       "      <th>user_id</th>\n",
       "      <th>event_dt</th>\n",
       "      <th>event_name</th>\n",
       "      <th>details</th>\n",
       "      <th>first_date_event</th>\n",
       "    </tr>\n",
       "  </thead>\n",
       "  <tbody>\n",
       "    <tr>\n",
       "      <th>335244</th>\n",
       "      <td>6644BB24A167AD19</td>\n",
       "      <td>2020-12-19 06:36:42</td>\n",
       "      <td>login</td>\n",
       "      <td>NaN</td>\n",
       "      <td>2020-12-07 19:16:59</td>\n",
       "    </tr>\n",
       "    <tr>\n",
       "      <th>317257</th>\n",
       "      <td>125E256140851A14</td>\n",
       "      <td>2020-12-17 22:35:24</td>\n",
       "      <td>login</td>\n",
       "      <td>NaN</td>\n",
       "      <td>2020-12-14 07:06:11</td>\n",
       "    </tr>\n",
       "    <tr>\n",
       "      <th>284011</th>\n",
       "      <td>945821BBDF122986</td>\n",
       "      <td>2020-12-13 10:57:44</td>\n",
       "      <td>login</td>\n",
       "      <td>NaN</td>\n",
       "      <td>2020-12-13 10:57:44</td>\n",
       "    </tr>\n",
       "    <tr>\n",
       "      <th>391754</th>\n",
       "      <td>7064F7D817BDABCE</td>\n",
       "      <td>2020-12-23 04:04:31</td>\n",
       "      <td>login</td>\n",
       "      <td>NaN</td>\n",
       "      <td>2020-12-17 20:22:30</td>\n",
       "    </tr>\n",
       "    <tr>\n",
       "      <th>354167</th>\n",
       "      <td>B6D0310031055653</td>\n",
       "      <td>2020-12-20 14:54:08</td>\n",
       "      <td>login</td>\n",
       "      <td>NaN</td>\n",
       "      <td>2020-12-20 14:54:08</td>\n",
       "    </tr>\n",
       "  </tbody>\n",
       "</table>\n",
       "</div>"
      ],
      "text/plain": [
       "                 user_id            event_dt event_name  details  \\\n",
       "335244  6644BB24A167AD19 2020-12-19 06:36:42      login      NaN   \n",
       "317257  125E256140851A14 2020-12-17 22:35:24      login      NaN   \n",
       "284011  945821BBDF122986 2020-12-13 10:57:44      login      NaN   \n",
       "391754  7064F7D817BDABCE 2020-12-23 04:04:31      login      NaN   \n",
       "354167  B6D0310031055653 2020-12-20 14:54:08      login      NaN   \n",
       "\n",
       "          first_date_event  \n",
       "335244 2020-12-07 19:16:59  \n",
       "317257 2020-12-14 07:06:11  \n",
       "284011 2020-12-13 10:57:44  \n",
       "391754 2020-12-17 20:22:30  \n",
       "354167 2020-12-20 14:54:08  "
      ]
     },
     "execution_count": 23,
     "metadata": {},
     "output_type": "execute_result"
    }
   ],
   "source": [
    "convert_time(ab_events_14, ['event_dt', 'first_date_event'])"
   ]
  },
  {
   "cell_type": "code",
   "execution_count": 24,
   "metadata": {},
   "outputs": [],
   "source": [
    "ab_events_14['days_since_first'] = (ab_events_14['event_dt'] - ab_events_14['first_date_event']).dt.days\n",
    "ab_events_14 = ab_events_14[ab_events_14['days_since_first'] <= 14]"
   ]
  },
  {
   "cell_type": "markdown",
   "metadata": {},
   "source": [
    "### Study conversion at different stages of the funnel."
   ]
  },
  {
   "cell_type": "markdown",
   "metadata": {},
   "source": [
    "Let's start by gathering all the necessary data into a single dataframe."
   ]
  },
  {
   "cell_type": "code",
   "execution_count": 30,
   "metadata": {},
   "outputs": [],
   "source": [
    "data = pd.merge(rst_ab_participants , eu_ab_new_users, on='user_id', how='left')\n",
    "data = pd.merge(data, ab_events_14, on='user_id', how='left')"
   ]
  },
  {
   "cell_type": "code",
   "execution_count": 31,
   "metadata": {},
   "outputs": [
    {
     "data": {
      "application/vnd.microsoft.datawrangler.viewer.v0+json": {
       "columns": [
        {
         "name": "index",
         "rawType": "int64",
         "type": "integer"
        },
        {
         "name": "user_id",
         "rawType": "object",
         "type": "string"
        },
        {
         "name": "group",
         "rawType": "object",
         "type": "string"
        },
        {
         "name": "ab_test",
         "rawType": "object",
         "type": "string"
        },
        {
         "name": "first_date",
         "rawType": "datetime64[ns]",
         "type": "datetime"
        },
        {
         "name": "region",
         "rawType": "object",
         "type": "string"
        },
        {
         "name": "device",
         "rawType": "object",
         "type": "string"
        },
        {
         "name": "event_dt",
         "rawType": "datetime64[ns]",
         "type": "datetime"
        },
        {
         "name": "event_name",
         "rawType": "object",
         "type": "string"
        },
        {
         "name": "details",
         "rawType": "float64",
         "type": "float"
        },
        {
         "name": "first_date_event",
         "rawType": "datetime64[ns]",
         "type": "datetime"
        },
        {
         "name": "days_since_first",
         "rawType": "int64",
         "type": "integer"
        }
       ],
       "ref": "916234e4-f762-4bce-b5a2-a7820805b96c",
       "rows": [
        [
         "4848",
         "FDF5ECE92EFCDEEB",
         "A",
         "recommender_system_test",
         "2020-12-19 00:00:00",
         "EU",
         "Android",
         "2020-12-22 08:33:22",
         "product_cart",
         null,
         "2020-12-19 13:29:46",
         "2"
        ],
        [
         "16281",
         "51560FF11CCA1F74",
         "A",
         "recommender_system_test",
         "2020-12-10 00:00:00",
         "EU",
         "PC",
         "2020-12-10 22:13:29",
         "login",
         null,
         "2020-12-10 22:13:29",
         "0"
        ]
       ],
       "shape": {
        "columns": 11,
        "rows": 2
       }
      },
      "text/html": [
       "<div>\n",
       "<style scoped>\n",
       "    .dataframe tbody tr th:only-of-type {\n",
       "        vertical-align: middle;\n",
       "    }\n",
       "\n",
       "    .dataframe tbody tr th {\n",
       "        vertical-align: top;\n",
       "    }\n",
       "\n",
       "    .dataframe thead th {\n",
       "        text-align: right;\n",
       "    }\n",
       "</style>\n",
       "<table border=\"1\" class=\"dataframe\">\n",
       "  <thead>\n",
       "    <tr style=\"text-align: right;\">\n",
       "      <th></th>\n",
       "      <th>user_id</th>\n",
       "      <th>group</th>\n",
       "      <th>ab_test</th>\n",
       "      <th>first_date</th>\n",
       "      <th>region</th>\n",
       "      <th>device</th>\n",
       "      <th>event_dt</th>\n",
       "      <th>event_name</th>\n",
       "      <th>details</th>\n",
       "      <th>first_date_event</th>\n",
       "      <th>days_since_first</th>\n",
       "    </tr>\n",
       "  </thead>\n",
       "  <tbody>\n",
       "    <tr>\n",
       "      <th>4848</th>\n",
       "      <td>FDF5ECE92EFCDEEB</td>\n",
       "      <td>A</td>\n",
       "      <td>recommender_system_test</td>\n",
       "      <td>2020-12-19</td>\n",
       "      <td>EU</td>\n",
       "      <td>Android</td>\n",
       "      <td>2020-12-22 08:33:22</td>\n",
       "      <td>product_cart</td>\n",
       "      <td>NaN</td>\n",
       "      <td>2020-12-19 13:29:46</td>\n",
       "      <td>2</td>\n",
       "    </tr>\n",
       "    <tr>\n",
       "      <th>16281</th>\n",
       "      <td>51560FF11CCA1F74</td>\n",
       "      <td>A</td>\n",
       "      <td>recommender_system_test</td>\n",
       "      <td>2020-12-10</td>\n",
       "      <td>EU</td>\n",
       "      <td>PC</td>\n",
       "      <td>2020-12-10 22:13:29</td>\n",
       "      <td>login</td>\n",
       "      <td>NaN</td>\n",
       "      <td>2020-12-10 22:13:29</td>\n",
       "      <td>0</td>\n",
       "    </tr>\n",
       "  </tbody>\n",
       "</table>\n",
       "</div>"
      ],
      "text/plain": [
       "                user_id group                  ab_test first_date region  \\\n",
       "4848   FDF5ECE92EFCDEEB     A  recommender_system_test 2020-12-19     EU   \n",
       "16281  51560FF11CCA1F74     A  recommender_system_test 2020-12-10     EU   \n",
       "\n",
       "        device            event_dt    event_name  details    first_date_event  \\\n",
       "4848   Android 2020-12-22 08:33:22  product_cart      NaN 2020-12-19 13:29:46   \n",
       "16281       PC 2020-12-10 22:13:29         login      NaN 2020-12-10 22:13:29   \n",
       "\n",
       "       days_since_first  \n",
       "4848                  2  \n",
       "16281                 0  "
      ]
     },
     "metadata": {},
     "output_type": "display_data"
    },
    {
     "name": "stdout",
     "output_type": "stream",
     "text": [
      "\n",
      "<class 'pandas.core.frame.DataFrame'>\n",
      "RangeIndex: 17852 entries, 0 to 17851\n",
      "Data columns (total 11 columns):\n",
      " #   Column            Non-Null Count  Dtype         \n",
      "---  ------            --------------  -----         \n",
      " 0   user_id           17852 non-null  object        \n",
      " 1   group             17852 non-null  object        \n",
      " 2   ab_test           17852 non-null  object        \n",
      " 3   first_date        16647 non-null  datetime64[ns]\n",
      " 4   region            16647 non-null  object        \n",
      " 5   device            16647 non-null  object        \n",
      " 6   event_dt          17852 non-null  datetime64[ns]\n",
      " 7   event_name        17852 non-null  object        \n",
      " 8   details           2348 non-null   float64       \n",
      " 9   first_date_event  17852 non-null  datetime64[ns]\n",
      " 10  days_since_first  17852 non-null  int64         \n",
      "dtypes: datetime64[ns](3), float64(1), int64(1), object(6)\n",
      "memory usage: 1.5+ MB\n",
      "None\n"
     ]
    }
   ],
   "source": [
    "display(data.sample(2))\n",
    "print()\n",
    "print(data.info())"
   ]
  },
  {
   "cell_type": "markdown",
   "metadata": {},
   "source": [
    "Let's calculate the size of the event:"
   ]
  },
  {
   "cell_type": "code",
   "execution_count": 32,
   "metadata": {},
   "outputs": [
    {
     "data": {
      "application/vnd.microsoft.datawrangler.viewer.v0+json": {
       "columns": [
        {
         "name": "event_name",
         "rawType": "object",
         "type": "string"
        },
        {
         "name": "user_id",
         "rawType": "object",
         "type": "string"
        }
       ],
       "ref": "30ea8ca1-c46e-4eed-bec7-3b42eeb5afaf",
       "rows": [
        [
         "login",
         "100.0%"
        ],
        [
         "product_page",
         "62.2%"
        ],
        [
         "product_cart",
         "30.0%"
        ],
        [
         "purchase",
         "29.1%"
        ]
       ],
       "shape": {
        "columns": 1,
        "rows": 4
       }
      },
      "text/plain": [
       "event_name\n",
       "login           100.0%\n",
       "product_page     62.2%\n",
       "product_cart     30.0%\n",
       "purchase         29.1%\n",
       "Name: user_id, dtype: object"
      ]
     },
     "execution_count": 32,
     "metadata": {},
     "output_type": "execute_result"
    }
   ],
   "source": [
    "funnel_counts = data.groupby('event_name')['user_id'].size()\n",
    "\n",
    "funnel_counts = funnel_counts.reindex(['login', 'product_page', 'product_cart', 'purchase'])\n",
    "funnel_rates = funnel_counts / funnel_counts.iloc[0] * 100\n",
    "\n",
    "funnel_rates = funnel_rates.map(lambda x: f\"{x:.1f}%\")\n",
    "funnel_rates"
   ]
  },
  {
   "cell_type": "markdown",
   "metadata": {},
   "source": [
    "And now, let's calculate the percentage at each stage of the funnel:"
   ]
  },
  {
   "cell_type": "code",
   "execution_count": 33,
   "metadata": {},
   "outputs": [
    {
     "data": {
      "text/plain": [
       "{'login': '100.0%',\n",
       " 'login -> product_page': '62.2%',\n",
       " 'product_page -> product_cart': '48.2%',\n",
       " 'product_cart -> purchase': '97.1%'}"
      ]
     },
     "execution_count": 33,
     "metadata": {},
     "output_type": "execute_result"
    }
   ],
   "source": [
    "conversion_steps = {\n",
    "    'login': funnel_counts['login']/funnel_counts['login'],\n",
    "    'login -> product_page': funnel_counts['product_page'] / funnel_counts['login'],\n",
    "    'product_page -> product_cart': funnel_counts['product_cart'] / funnel_counts['product_page'],\n",
    "    'product_cart -> purchase': funnel_counts['purchase'] / funnel_counts['product_cart']\n",
    "}\n",
    "\n",
    "conversion_rates = {k: f\"{v*100:.1f}%\" for k, v in conversion_steps.items()}\n",
    "conversion_rates"
   ]
  },
  {
   "cell_type": "code",
   "execution_count": 34,
   "metadata": {},
   "outputs": [
    {
     "data": {
      "application/vnd.plotly.v1+json": {
       "config": {
        "plotlyServerURL": "https://plot.ly"
       },
       "data": [
        {
         "type": "funnel",
         "x": [
          100,
          62.2,
          48.2,
          97.1
         ],
         "y": [
          "login",
          "login -> product_page",
          "product_page -> product_cart",
          "product_cart -> purchase"
         ]
        }
       ],
       "layout": {
        "template": {
         "data": {
          "bar": [
           {
            "error_x": {
             "color": "#2a3f5f"
            },
            "error_y": {
             "color": "#2a3f5f"
            },
            "marker": {
             "line": {
              "color": "#E5ECF6",
              "width": 0.5
             },
             "pattern": {
              "fillmode": "overlay",
              "size": 10,
              "solidity": 0.2
             }
            },
            "type": "bar"
           }
          ],
          "barpolar": [
           {
            "marker": {
             "line": {
              "color": "#E5ECF6",
              "width": 0.5
             },
             "pattern": {
              "fillmode": "overlay",
              "size": 10,
              "solidity": 0.2
             }
            },
            "type": "barpolar"
           }
          ],
          "carpet": [
           {
            "aaxis": {
             "endlinecolor": "#2a3f5f",
             "gridcolor": "white",
             "linecolor": "white",
             "minorgridcolor": "white",
             "startlinecolor": "#2a3f5f"
            },
            "baxis": {
             "endlinecolor": "#2a3f5f",
             "gridcolor": "white",
             "linecolor": "white",
             "minorgridcolor": "white",
             "startlinecolor": "#2a3f5f"
            },
            "type": "carpet"
           }
          ],
          "choropleth": [
           {
            "colorbar": {
             "outlinewidth": 0,
             "ticks": ""
            },
            "type": "choropleth"
           }
          ],
          "contour": [
           {
            "colorbar": {
             "outlinewidth": 0,
             "ticks": ""
            },
            "colorscale": [
             [
              0,
              "#0d0887"
             ],
             [
              0.1111111111111111,
              "#46039f"
             ],
             [
              0.2222222222222222,
              "#7201a8"
             ],
             [
              0.3333333333333333,
              "#9c179e"
             ],
             [
              0.4444444444444444,
              "#bd3786"
             ],
             [
              0.5555555555555556,
              "#d8576b"
             ],
             [
              0.6666666666666666,
              "#ed7953"
             ],
             [
              0.7777777777777778,
              "#fb9f3a"
             ],
             [
              0.8888888888888888,
              "#fdca26"
             ],
             [
              1,
              "#f0f921"
             ]
            ],
            "type": "contour"
           }
          ],
          "contourcarpet": [
           {
            "colorbar": {
             "outlinewidth": 0,
             "ticks": ""
            },
            "type": "contourcarpet"
           }
          ],
          "heatmap": [
           {
            "colorbar": {
             "outlinewidth": 0,
             "ticks": ""
            },
            "colorscale": [
             [
              0,
              "#0d0887"
             ],
             [
              0.1111111111111111,
              "#46039f"
             ],
             [
              0.2222222222222222,
              "#7201a8"
             ],
             [
              0.3333333333333333,
              "#9c179e"
             ],
             [
              0.4444444444444444,
              "#bd3786"
             ],
             [
              0.5555555555555556,
              "#d8576b"
             ],
             [
              0.6666666666666666,
              "#ed7953"
             ],
             [
              0.7777777777777778,
              "#fb9f3a"
             ],
             [
              0.8888888888888888,
              "#fdca26"
             ],
             [
              1,
              "#f0f921"
             ]
            ],
            "type": "heatmap"
           }
          ],
          "histogram": [
           {
            "marker": {
             "pattern": {
              "fillmode": "overlay",
              "size": 10,
              "solidity": 0.2
             }
            },
            "type": "histogram"
           }
          ],
          "histogram2d": [
           {
            "colorbar": {
             "outlinewidth": 0,
             "ticks": ""
            },
            "colorscale": [
             [
              0,
              "#0d0887"
             ],
             [
              0.1111111111111111,
              "#46039f"
             ],
             [
              0.2222222222222222,
              "#7201a8"
             ],
             [
              0.3333333333333333,
              "#9c179e"
             ],
             [
              0.4444444444444444,
              "#bd3786"
             ],
             [
              0.5555555555555556,
              "#d8576b"
             ],
             [
              0.6666666666666666,
              "#ed7953"
             ],
             [
              0.7777777777777778,
              "#fb9f3a"
             ],
             [
              0.8888888888888888,
              "#fdca26"
             ],
             [
              1,
              "#f0f921"
             ]
            ],
            "type": "histogram2d"
           }
          ],
          "histogram2dcontour": [
           {
            "colorbar": {
             "outlinewidth": 0,
             "ticks": ""
            },
            "colorscale": [
             [
              0,
              "#0d0887"
             ],
             [
              0.1111111111111111,
              "#46039f"
             ],
             [
              0.2222222222222222,
              "#7201a8"
             ],
             [
              0.3333333333333333,
              "#9c179e"
             ],
             [
              0.4444444444444444,
              "#bd3786"
             ],
             [
              0.5555555555555556,
              "#d8576b"
             ],
             [
              0.6666666666666666,
              "#ed7953"
             ],
             [
              0.7777777777777778,
              "#fb9f3a"
             ],
             [
              0.8888888888888888,
              "#fdca26"
             ],
             [
              1,
              "#f0f921"
             ]
            ],
            "type": "histogram2dcontour"
           }
          ],
          "mesh3d": [
           {
            "colorbar": {
             "outlinewidth": 0,
             "ticks": ""
            },
            "type": "mesh3d"
           }
          ],
          "parcoords": [
           {
            "line": {
             "colorbar": {
              "outlinewidth": 0,
              "ticks": ""
             }
            },
            "type": "parcoords"
           }
          ],
          "pie": [
           {
            "automargin": true,
            "type": "pie"
           }
          ],
          "scatter": [
           {
            "fillpattern": {
             "fillmode": "overlay",
             "size": 10,
             "solidity": 0.2
            },
            "type": "scatter"
           }
          ],
          "scatter3d": [
           {
            "line": {
             "colorbar": {
              "outlinewidth": 0,
              "ticks": ""
             }
            },
            "marker": {
             "colorbar": {
              "outlinewidth": 0,
              "ticks": ""
             }
            },
            "type": "scatter3d"
           }
          ],
          "scattercarpet": [
           {
            "marker": {
             "colorbar": {
              "outlinewidth": 0,
              "ticks": ""
             }
            },
            "type": "scattercarpet"
           }
          ],
          "scattergeo": [
           {
            "marker": {
             "colorbar": {
              "outlinewidth": 0,
              "ticks": ""
             }
            },
            "type": "scattergeo"
           }
          ],
          "scattergl": [
           {
            "marker": {
             "colorbar": {
              "outlinewidth": 0,
              "ticks": ""
             }
            },
            "type": "scattergl"
           }
          ],
          "scattermap": [
           {
            "marker": {
             "colorbar": {
              "outlinewidth": 0,
              "ticks": ""
             }
            },
            "type": "scattermap"
           }
          ],
          "scattermapbox": [
           {
            "marker": {
             "colorbar": {
              "outlinewidth": 0,
              "ticks": ""
             }
            },
            "type": "scattermapbox"
           }
          ],
          "scatterpolar": [
           {
            "marker": {
             "colorbar": {
              "outlinewidth": 0,
              "ticks": ""
             }
            },
            "type": "scatterpolar"
           }
          ],
          "scatterpolargl": [
           {
            "marker": {
             "colorbar": {
              "outlinewidth": 0,
              "ticks": ""
             }
            },
            "type": "scatterpolargl"
           }
          ],
          "scatterternary": [
           {
            "marker": {
             "colorbar": {
              "outlinewidth": 0,
              "ticks": ""
             }
            },
            "type": "scatterternary"
           }
          ],
          "surface": [
           {
            "colorbar": {
             "outlinewidth": 0,
             "ticks": ""
            },
            "colorscale": [
             [
              0,
              "#0d0887"
             ],
             [
              0.1111111111111111,
              "#46039f"
             ],
             [
              0.2222222222222222,
              "#7201a8"
             ],
             [
              0.3333333333333333,
              "#9c179e"
             ],
             [
              0.4444444444444444,
              "#bd3786"
             ],
             [
              0.5555555555555556,
              "#d8576b"
             ],
             [
              0.6666666666666666,
              "#ed7953"
             ],
             [
              0.7777777777777778,
              "#fb9f3a"
             ],
             [
              0.8888888888888888,
              "#fdca26"
             ],
             [
              1,
              "#f0f921"
             ]
            ],
            "type": "surface"
           }
          ],
          "table": [
           {
            "cells": {
             "fill": {
              "color": "#EBF0F8"
             },
             "line": {
              "color": "white"
             }
            },
            "header": {
             "fill": {
              "color": "#C8D4E3"
             },
             "line": {
              "color": "white"
             }
            },
            "type": "table"
           }
          ]
         },
         "layout": {
          "annotationdefaults": {
           "arrowcolor": "#2a3f5f",
           "arrowhead": 0,
           "arrowwidth": 1
          },
          "autotypenumbers": "strict",
          "coloraxis": {
           "colorbar": {
            "outlinewidth": 0,
            "ticks": ""
           }
          },
          "colorscale": {
           "diverging": [
            [
             0,
             "#8e0152"
            ],
            [
             0.1,
             "#c51b7d"
            ],
            [
             0.2,
             "#de77ae"
            ],
            [
             0.3,
             "#f1b6da"
            ],
            [
             0.4,
             "#fde0ef"
            ],
            [
             0.5,
             "#f7f7f7"
            ],
            [
             0.6,
             "#e6f5d0"
            ],
            [
             0.7,
             "#b8e186"
            ],
            [
             0.8,
             "#7fbc41"
            ],
            [
             0.9,
             "#4d9221"
            ],
            [
             1,
             "#276419"
            ]
           ],
           "sequential": [
            [
             0,
             "#0d0887"
            ],
            [
             0.1111111111111111,
             "#46039f"
            ],
            [
             0.2222222222222222,
             "#7201a8"
            ],
            [
             0.3333333333333333,
             "#9c179e"
            ],
            [
             0.4444444444444444,
             "#bd3786"
            ],
            [
             0.5555555555555556,
             "#d8576b"
            ],
            [
             0.6666666666666666,
             "#ed7953"
            ],
            [
             0.7777777777777778,
             "#fb9f3a"
            ],
            [
             0.8888888888888888,
             "#fdca26"
            ],
            [
             1,
             "#f0f921"
            ]
           ],
           "sequentialminus": [
            [
             0,
             "#0d0887"
            ],
            [
             0.1111111111111111,
             "#46039f"
            ],
            [
             0.2222222222222222,
             "#7201a8"
            ],
            [
             0.3333333333333333,
             "#9c179e"
            ],
            [
             0.4444444444444444,
             "#bd3786"
            ],
            [
             0.5555555555555556,
             "#d8576b"
            ],
            [
             0.6666666666666666,
             "#ed7953"
            ],
            [
             0.7777777777777778,
             "#fb9f3a"
            ],
            [
             0.8888888888888888,
             "#fdca26"
            ],
            [
             1,
             "#f0f921"
            ]
           ]
          },
          "colorway": [
           "#636efa",
           "#EF553B",
           "#00cc96",
           "#ab63fa",
           "#FFA15A",
           "#19d3f3",
           "#FF6692",
           "#B6E880",
           "#FF97FF",
           "#FECB52"
          ],
          "font": {
           "color": "#2a3f5f"
          },
          "geo": {
           "bgcolor": "white",
           "lakecolor": "white",
           "landcolor": "#E5ECF6",
           "showlakes": true,
           "showland": true,
           "subunitcolor": "white"
          },
          "hoverlabel": {
           "align": "left"
          },
          "hovermode": "closest",
          "mapbox": {
           "style": "light"
          },
          "paper_bgcolor": "white",
          "plot_bgcolor": "#E5ECF6",
          "polar": {
           "angularaxis": {
            "gridcolor": "white",
            "linecolor": "white",
            "ticks": ""
           },
           "bgcolor": "#E5ECF6",
           "radialaxis": {
            "gridcolor": "white",
            "linecolor": "white",
            "ticks": ""
           }
          },
          "scene": {
           "xaxis": {
            "backgroundcolor": "#E5ECF6",
            "gridcolor": "white",
            "gridwidth": 2,
            "linecolor": "white",
            "showbackground": true,
            "ticks": "",
            "zerolinecolor": "white"
           },
           "yaxis": {
            "backgroundcolor": "#E5ECF6",
            "gridcolor": "white",
            "gridwidth": 2,
            "linecolor": "white",
            "showbackground": true,
            "ticks": "",
            "zerolinecolor": "white"
           },
           "zaxis": {
            "backgroundcolor": "#E5ECF6",
            "gridcolor": "white",
            "gridwidth": 2,
            "linecolor": "white",
            "showbackground": true,
            "ticks": "",
            "zerolinecolor": "white"
           }
          },
          "shapedefaults": {
           "line": {
            "color": "#2a3f5f"
           }
          },
          "ternary": {
           "aaxis": {
            "gridcolor": "white",
            "linecolor": "white",
            "ticks": ""
           },
           "baxis": {
            "gridcolor": "white",
            "linecolor": "white",
            "ticks": ""
           },
           "bgcolor": "#E5ECF6",
           "caxis": {
            "gridcolor": "white",
            "linecolor": "white",
            "ticks": ""
           }
          },
          "title": {
           "x": 0.05
          },
          "xaxis": {
           "automargin": true,
           "gridcolor": "white",
           "linecolor": "white",
           "ticks": "",
           "title": {
            "standoff": 15
           },
           "zerolinecolor": "white",
           "zerolinewidth": 2
          },
          "yaxis": {
           "automargin": true,
           "gridcolor": "white",
           "linecolor": "white",
           "ticks": "",
           "title": {
            "standoff": 15
           },
           "zerolinecolor": "white",
           "zerolinewidth": 2
          }
         }
        }
       }
      }
     },
     "metadata": {},
     "output_type": "display_data"
    }
   ],
   "source": [
    "fig = go.Figure(go.Funnel(\n",
    "    y=list(conversion_rates.keys()),\n",
    "    x=[float(v.strip('%')) for v in conversion_rates.values()]\n",
    "))\n",
    "\n",
    "fig.show()"
   ]
  },
  {
   "cell_type": "markdown",
   "metadata": {},
   "source": [
    "With this more in-depth analysis, we can see that 62% of users went to the product page and only 48% of those went to the shopping cart. However, 97% of those who put the product in the cart completed their purchases, which could be a great sign! In total, 30% of consumers completed their purchases, which can also be considered a considerable amount. The existence of a larger funnel in the purchase stage than in the shopping cart stage can be justified by those consumers who go directly to the purchase."
   ]
  },
  {
   "cell_type": "markdown",
   "metadata": {},
   "source": [
    "### Is the number of events per user evenly distributed across samples?"
   ]
  },
  {
   "cell_type": "markdown",
   "metadata": {},
   "source": [
    "Let's start by checking the distribution of events by users according to the test"
   ]
  },
  {
   "cell_type": "code",
   "execution_count": 35,
   "metadata": {},
   "outputs": [
    {
     "data": {
      "application/vnd.microsoft.datawrangler.viewer.v0+json": {
       "columns": [
        {
         "name": "index",
         "rawType": "int64",
         "type": "integer"
        },
        {
         "name": "event_name",
         "rawType": "object",
         "type": "string"
        },
        {
         "name": "user_id",
         "rawType": "int64",
         "type": "integer"
        }
       ],
       "ref": "7f6097c6-e72a-49cc-8a81-0515b9e918ad",
       "rows": [
        [
         "0",
         "login",
         "2787"
        ],
        [
         "1",
         "product_cart",
         "826"
        ],
        [
         "2",
         "product_page",
         "1757"
        ],
        [
         "3",
         "purchase",
         "850"
        ]
       ],
       "shape": {
        "columns": 2,
        "rows": 4
       }
      },
      "text/html": [
       "<div>\n",
       "<style scoped>\n",
       "    .dataframe tbody tr th:only-of-type {\n",
       "        vertical-align: middle;\n",
       "    }\n",
       "\n",
       "    .dataframe tbody tr th {\n",
       "        vertical-align: top;\n",
       "    }\n",
       "\n",
       "    .dataframe thead th {\n",
       "        text-align: right;\n",
       "    }\n",
       "</style>\n",
       "<table border=\"1\" class=\"dataframe\">\n",
       "  <thead>\n",
       "    <tr style=\"text-align: right;\">\n",
       "      <th></th>\n",
       "      <th>event_name</th>\n",
       "      <th>user_id</th>\n",
       "    </tr>\n",
       "  </thead>\n",
       "  <tbody>\n",
       "    <tr>\n",
       "      <th>0</th>\n",
       "      <td>login</td>\n",
       "      <td>2787</td>\n",
       "    </tr>\n",
       "    <tr>\n",
       "      <th>1</th>\n",
       "      <td>product_cart</td>\n",
       "      <td>826</td>\n",
       "    </tr>\n",
       "    <tr>\n",
       "      <th>2</th>\n",
       "      <td>product_page</td>\n",
       "      <td>1757</td>\n",
       "    </tr>\n",
       "    <tr>\n",
       "      <th>3</th>\n",
       "      <td>purchase</td>\n",
       "      <td>850</td>\n",
       "    </tr>\n",
       "  </tbody>\n",
       "</table>\n",
       "</div>"
      ],
      "text/plain": [
       "     event_name  user_id\n",
       "0         login     2787\n",
       "1  product_cart      826\n",
       "2  product_page     1757\n",
       "3      purchase      850"
      ]
     },
     "metadata": {},
     "output_type": "display_data"
    },
    {
     "name": "stdout",
     "output_type": "stream",
     "text": [
      "\n"
     ]
    },
    {
     "data": {
      "image/png": "[encoded data removed]",
      "text/plain": [
       "<Figure size 1000x500 with 1 Axes>"
      ]
     },
     "metadata": {},
     "output_type": "display_data"
    }
   ],
   "source": [
    "count_user = data.groupby(['event_name'])['user_id'].nunique().reset_index()\n",
    "\n",
    "\n",
    "display(count_user)\n",
    "print()\n",
    "\n",
    "plt.figure(figsize=(10, 5))\n",
    "sns.boxplot(x='event_name', y='user_id', data=count_user)\n",
    "plt.xlabel(\"Event\")\n",
    "plt.ylabel(\"Number of Users\")\n",
    "plt.title(\"Distribution of users among the events of the 'recommender system' test\")\n",
    "plt.show()"
   ]
  },
  {
   "cell_type": "markdown",
   "metadata": {},
   "source": [
    "- The login event is the one that presents the most users, which makes sense since it is a starting point for the website. However, the difference between the next step (which would be product_page) may indicate that many people do not go beyond the login screen, whether due to technical difficulties, complicated login, or forgotten password.\n",
    "- Just under half of users do not continue to the next screen of product_page\n",
    "- The difference between the second place may also indicate that the navigation flow is confusing or there is no CTA that takes you to the page, for example."
   ]
  },
  {
   "cell_type": "markdown",
   "metadata": {},
   "source": [
    "Now let's check the distribution of events by group"
   ]
  },
  {
   "cell_type": "markdown",
   "metadata": {},
   "source": [
    "- Let's check the distribution of users by group"
   ]
  },
  {
   "cell_type": "code",
   "execution_count": 36,
   "metadata": {},
   "outputs": [
    {
     "name": "stdout",
     "output_type": "stream",
     "text": [
      "Users assigned to \"recommender_system_test\n"
     ]
    },
    {
     "data": {
      "application/vnd.microsoft.datawrangler.viewer.v0+json": {
       "columns": [
        {
         "name": "index",
         "rawType": "int64",
         "type": "integer"
        },
        {
         "name": "group",
         "rawType": "object",
         "type": "string"
        },
        {
         "name": "user_id",
         "rawType": "int64",
         "type": "integer"
        }
       ],
       "ref": "83469628-4a56-4c20-8971-79cff8d23567",
       "rows": [
        [
         "0",
         "A",
         "2082"
        ],
        [
         "1",
         "B",
         "706"
        ]
       ],
       "shape": {
        "columns": 2,
        "rows": 2
       }
      },
      "text/html": [
       "<div>\n",
       "<style scoped>\n",
       "    .dataframe tbody tr th:only-of-type {\n",
       "        vertical-align: middle;\n",
       "    }\n",
       "\n",
       "    .dataframe tbody tr th {\n",
       "        vertical-align: top;\n",
       "    }\n",
       "\n",
       "    .dataframe thead th {\n",
       "        text-align: right;\n",
       "    }\n",
       "</style>\n",
       "<table border=\"1\" class=\"dataframe\">\n",
       "  <thead>\n",
       "    <tr style=\"text-align: right;\">\n",
       "      <th></th>\n",
       "      <th>group</th>\n",
       "      <th>user_id</th>\n",
       "    </tr>\n",
       "  </thead>\n",
       "  <tbody>\n",
       "    <tr>\n",
       "      <th>0</th>\n",
       "      <td>A</td>\n",
       "      <td>2082</td>\n",
       "    </tr>\n",
       "    <tr>\n",
       "      <th>1</th>\n",
       "      <td>B</td>\n",
       "      <td>706</td>\n",
       "    </tr>\n",
       "  </tbody>\n",
       "</table>\n",
       "</div>"
      ],
      "text/plain": [
       "  group  user_id\n",
       "0     A     2082\n",
       "1     B      706"
      ]
     },
     "metadata": {},
     "output_type": "display_data"
    }
   ],
   "source": [
    "count_group = data.groupby('group')['user_id'].nunique().reset_index()\n",
    "\n",
    "print('Users assigned to \"recommender_system_test')\n",
    "display(count_group)"
   ]
  },
  {
   "cell_type": "code",
   "execution_count": 37,
   "metadata": {},
   "outputs": [
    {
     "data": {
      "application/vnd.microsoft.datawrangler.viewer.v0+json": {
       "columns": [
        {
         "name": "event_name",
         "rawType": "object",
         "type": "string"
        },
        {
         "name": "A",
         "rawType": "int64",
         "type": "integer"
        },
        {
         "name": "B",
         "rawType": "int64",
         "type": "integer"
        }
       ],
       "ref": "7f4c2857-52c4-4e3a-9ad6-2077cfe2b3af",
       "rows": [
        [
         "login",
         "2082",
         "705"
        ],
        [
         "product_cart",
         "631",
         "195"
        ],
        [
         "product_page",
         "1360",
         "397"
        ],
        [
         "purchase",
         "652",
         "198"
        ]
       ],
       "shape": {
        "columns": 2,
        "rows": 4
       }
      },
      "text/html": [
       "<div>\n",
       "<style scoped>\n",
       "    .dataframe tbody tr th:only-of-type {\n",
       "        vertical-align: middle;\n",
       "    }\n",
       "\n",
       "    .dataframe tbody tr th {\n",
       "        vertical-align: top;\n",
       "    }\n",
       "\n",
       "    .dataframe thead th {\n",
       "        text-align: right;\n",
       "    }\n",
       "</style>\n",
       "<table border=\"1\" class=\"dataframe\">\n",
       "  <thead>\n",
       "    <tr style=\"text-align: right;\">\n",
       "      <th>group</th>\n",
       "      <th>A</th>\n",
       "      <th>B</th>\n",
       "    </tr>\n",
       "    <tr>\n",
       "      <th>event_name</th>\n",
       "      <th></th>\n",
       "      <th></th>\n",
       "    </tr>\n",
       "  </thead>\n",
       "  <tbody>\n",
       "    <tr>\n",
       "      <th>login</th>\n",
       "      <td>2082</td>\n",
       "      <td>705</td>\n",
       "    </tr>\n",
       "    <tr>\n",
       "      <th>product_cart</th>\n",
       "      <td>631</td>\n",
       "      <td>195</td>\n",
       "    </tr>\n",
       "    <tr>\n",
       "      <th>product_page</th>\n",
       "      <td>1360</td>\n",
       "      <td>397</td>\n",
       "    </tr>\n",
       "    <tr>\n",
       "      <th>purchase</th>\n",
       "      <td>652</td>\n",
       "      <td>198</td>\n",
       "    </tr>\n",
       "  </tbody>\n",
       "</table>\n",
       "</div>"
      ],
      "text/plain": [
       "group            A    B\n",
       "event_name             \n",
       "login         2082  705\n",
       "product_cart   631  195\n",
       "product_page  1360  397\n",
       "purchase       652  198"
      ]
     },
     "metadata": {},
     "output_type": "display_data"
    },
    {
     "name": "stdout",
     "output_type": "stream",
     "text": [
      "\n"
     ]
    },
    {
     "data": {
      "image/png": "[encoded data removed]",
      "text/plain": [
       "<Figure size 1200x600 with 1 Axes>"
      ]
     },
     "metadata": {},
     "output_type": "display_data"
    }
   ],
   "source": [
    "counts_group = pd.pivot_table(data, values='user_id', columns='group', index='event_name', aggfunc='nunique')\n",
    "\n",
    "display(counts_group)\n",
    "print()\n",
    "colors = ['salmon', 'skyblue']\n",
    "counts_group.plot(kind='bar', figsize=(12, 6), color=colors)\n",
    "plt.xlabel(\"Event\")\n",
    "plt.ylabel(\"Number of Unique Users\")\n",
    "plt.title(\"Distribution of Events by Group\")\n",
    "plt.xticks(rotation=45)\n",
    "plt.legend(title=\"Group AB\")\n",
    "plt.show()"
   ]
  },
  {
   "cell_type": "markdown",
   "metadata": {},
   "source": [
    "- There was a very small number of users who took part in the 'recommender system' test. The expected number was 6,000 users and we only had 2,787\n",
    "- Group B of the test represents less than half of the users, which makes the distribution disproportionate"
   ]
  },
  {
   "cell_type": "markdown",
   "metadata": {},
   "source": [
    "### How is the number of events distributed across days?"
   ]
  },
  {
   "cell_type": "markdown",
   "metadata": {},
   "source": [
    "Let's create columns for the days and use histplot to check the distribution"
   ]
  },
  {
   "cell_type": "code",
   "execution_count": 38,
   "metadata": {},
   "outputs": [
    {
     "data": {
      "application/vnd.microsoft.datawrangler.viewer.v0+json": {
       "columns": [
        {
         "name": "index",
         "rawType": "int64",
         "type": "integer"
        },
        {
         "name": "user_id",
         "rawType": "object",
         "type": "string"
        },
        {
         "name": "group",
         "rawType": "object",
         "type": "string"
        },
        {
         "name": "ab_test",
         "rawType": "object",
         "type": "string"
        },
        {
         "name": "first_date",
         "rawType": "datetime64[ns]",
         "type": "datetime"
        },
        {
         "name": "region",
         "rawType": "object",
         "type": "string"
        },
        {
         "name": "device",
         "rawType": "object",
         "type": "string"
        },
        {
         "name": "event_dt",
         "rawType": "datetime64[ns]",
         "type": "datetime"
        },
        {
         "name": "event_name",
         "rawType": "object",
         "type": "string"
        },
        {
         "name": "details",
         "rawType": "float64",
         "type": "float"
        },
        {
         "name": "first_date_event",
         "rawType": "datetime64[ns]",
         "type": "datetime"
        },
        {
         "name": "days_since_first",
         "rawType": "int64",
         "type": "integer"
        },
        {
         "name": "day",
         "rawType": "object",
         "type": "string"
        },
        {
         "name": "hour",
         "rawType": "int32",
         "type": "integer"
        },
        {
         "name": "event_date",
         "rawType": "object",
         "type": "unknown"
        }
       ],
       "ref": "45f9ccfa-7f43-47ed-900d-d66ba8cf989e",
       "rows": [
        [
         "8200",
         "073D8EA132A0CFE2",
         "A",
         "recommender_system_test",
         "2020-12-21 00:00:00",
         "EU",
         "iPhone",
         "2020-12-21 12:42:33",
         "purchase",
         "9.99",
         "2020-12-21 12:42:33",
         "0",
         "Monday",
         "12",
         "2020-12-21"
        ]
       ],
       "shape": {
        "columns": 14,
        "rows": 1
       }
      },
      "text/html": [
       "<div>\n",
       "<style scoped>\n",
       "    .dataframe tbody tr th:only-of-type {\n",
       "        vertical-align: middle;\n",
       "    }\n",
       "\n",
       "    .dataframe tbody tr th {\n",
       "        vertical-align: top;\n",
       "    }\n",
       "\n",
       "    .dataframe thead th {\n",
       "        text-align: right;\n",
       "    }\n",
       "</style>\n",
       "<table border=\"1\" class=\"dataframe\">\n",
       "  <thead>\n",
       "    <tr style=\"text-align: right;\">\n",
       "      <th></th>\n",
       "      <th>user_id</th>\n",
       "      <th>group</th>\n",
       "      <th>ab_test</th>\n",
       "      <th>first_date</th>\n",
       "      <th>region</th>\n",
       "      <th>device</th>\n",
       "      <th>event_dt</th>\n",
       "      <th>event_name</th>\n",
       "      <th>details</th>\n",
       "      <th>first_date_event</th>\n",
       "      <th>days_since_first</th>\n",
       "      <th>day</th>\n",
       "      <th>hour</th>\n",
       "      <th>event_date</th>\n",
       "    </tr>\n",
       "  </thead>\n",
       "  <tbody>\n",
       "    <tr>\n",
       "      <th>8200</th>\n",
       "      <td>073D8EA132A0CFE2</td>\n",
       "      <td>A</td>\n",
       "      <td>recommender_system_test</td>\n",
       "      <td>2020-12-21</td>\n",
       "      <td>EU</td>\n",
       "      <td>iPhone</td>\n",
       "      <td>2020-12-21 12:42:33</td>\n",
       "      <td>purchase</td>\n",
       "      <td>9.99</td>\n",
       "      <td>2020-12-21 12:42:33</td>\n",
       "      <td>0</td>\n",
       "      <td>Monday</td>\n",
       "      <td>12</td>\n",
       "      <td>2020-12-21</td>\n",
       "    </tr>\n",
       "  </tbody>\n",
       "</table>\n",
       "</div>"
      ],
      "text/plain": [
       "               user_id group                  ab_test first_date region  \\\n",
       "8200  073D8EA132A0CFE2     A  recommender_system_test 2020-12-21     EU   \n",
       "\n",
       "      device            event_dt event_name  details    first_date_event  \\\n",
       "8200  iPhone 2020-12-21 12:42:33   purchase     9.99 2020-12-21 12:42:33   \n",
       "\n",
       "      days_since_first     day  hour  event_date  \n",
       "8200                 0  Monday    12  2020-12-21  "
      ]
     },
     "execution_count": 38,
     "metadata": {},
     "output_type": "execute_result"
    }
   ],
   "source": [
    "data['day'] = data['event_dt'].dt.day_name()\n",
    "data['hour'] = data['event_dt'].dt.hour\n",
    "data['event_date'] = data['event_dt'].dt.date\n",
    "\n",
    "data.sample()\n"
   ]
  },
  {
   "cell_type": "code",
   "execution_count": 40,
   "metadata": {},
   "outputs": [
    {
     "data": {
      "image/png": "[encoded data removed]",
      "text/plain": [
       "<Figure size 1600x800 with 1 Axes>"
      ]
     },
     "metadata": {},
     "output_type": "display_data"
    }
   ],
   "source": [
    "#Distribution per day\n",
    "plt.figure(figsize=[16,8])\n",
    "sns.countplot(data, x='day', hue='event_name', palette='pastel')\n",
    "plt.title('Distribuion per day')\n",
    "plt.xlabel('Day distribuition')\n",
    "plt.ylabel('Count')\n",
    "plt.legend(title=\"Event Name\")\n",
    "plt.show()"
   ]
  },
  {
   "cell_type": "markdown",
   "metadata": {},
   "source": [
    "- Monday is the day when the most users logged in, followed by Thursday\n",
    "- Likewise, the day when the most users purchased was Monday and then Thursday."
   ]
  },
  {
   "cell_type": "code",
   "execution_count": 41,
   "metadata": {},
   "outputs": [
    {
     "data": {
      "image/png": "[encoded data removed]",
      "text/plain": [
       "<Figure size 2000x1000 with 1 Axes>"
      ]
     },
     "metadata": {},
     "output_type": "display_data"
    }
   ],
   "source": [
    "#Distribution by hour\n",
    "plt.figure(figsize=[20,10])\n",
    "sns.countplot(data, x='hour', hue='event_name', palette='Set2')\n",
    "plt.title('Distribution per hour')\n",
    "plt.xlabel('Hour')\n",
    "plt.ylabel('Count')\n",
    "plt.xticks(np.arange(0, 24, 1))\n",
    "plt.legend(title=\"Event Name\")\n",
    "plt.show()"
   ]
  },
  {
   "cell_type": "markdown",
   "metadata": {},
   "source": [
    "- There were logins throughout the day, but with emphasis on 9am, 2pm, 7pm and 10pm.\n",
    "- Users also purchased throughout the day, especially at night and with small peaks at 4am and 2pm as well."
   ]
  },
  {
   "cell_type": "code",
   "execution_count": 42,
   "metadata": {},
   "outputs": [
    {
     "data": {
      "application/vnd.microsoft.datawrangler.viewer.v0+json": {
       "columns": [
        {
         "name": "index",
         "rawType": "int64",
         "type": "integer"
        },
        {
         "name": "event_date",
         "rawType": "object",
         "type": "unknown"
        },
        {
         "name": "event_name",
         "rawType": "object",
         "type": "string"
        },
        {
         "name": "sessions",
         "rawType": "int64",
         "type": "integer"
        }
       ],
       "ref": "d6211da8-47e5-424e-af0b-78d2fed3e043",
       "rows": [
        [
         "1",
         "2020-12-07",
         "product_cart",
         "61"
        ]
       ],
       "shape": {
        "columns": 3,
        "rows": 1
       }
      },
      "text/html": [
       "<div>\n",
       "<style scoped>\n",
       "    .dataframe tbody tr th:only-of-type {\n",
       "        vertical-align: middle;\n",
       "    }\n",
       "\n",
       "    .dataframe tbody tr th {\n",
       "        vertical-align: top;\n",
       "    }\n",
       "\n",
       "    .dataframe thead th {\n",
       "        text-align: right;\n",
       "    }\n",
       "</style>\n",
       "<table border=\"1\" class=\"dataframe\">\n",
       "  <thead>\n",
       "    <tr style=\"text-align: right;\">\n",
       "      <th></th>\n",
       "      <th>event_date</th>\n",
       "      <th>event_name</th>\n",
       "      <th>sessions</th>\n",
       "    </tr>\n",
       "  </thead>\n",
       "  <tbody>\n",
       "    <tr>\n",
       "      <th>1</th>\n",
       "      <td>2020-12-07</td>\n",
       "      <td>product_cart</td>\n",
       "      <td>61</td>\n",
       "    </tr>\n",
       "  </tbody>\n",
       "</table>\n",
       "</div>"
      ],
      "text/plain": [
       "   event_date    event_name  sessions\n",
       "1  2020-12-07  product_cart        61"
      ]
     },
     "execution_count": 42,
     "metadata": {},
     "output_type": "execute_result"
    }
   ],
   "source": [
    "events_per_day = data.groupby(['event_date', 'event_name'])['user_id'].count().reset_index(name='sessions')\n",
    "\n",
    "events_per_day.sample()"
   ]
  },
  {
   "cell_type": "code",
   "execution_count": 43,
   "metadata": {},
   "outputs": [
    {
     "data": {
      "image/png": "[encoded data removed]",
      "text/plain": [
       "<Figure size 2000x800 with 1 Axes>"
      ]
     },
     "metadata": {},
     "output_type": "display_data"
    }
   ],
   "source": [
    "plt.figure(figsize=[20,8])\n",
    "sns.barplot(events_per_day, x='event_date', hue='event_name', y='sessions', palette='dark:coral')\n",
    "plt.title('Daily Sessions')\n",
    "plt.xlabel('Date')\n",
    "plt.xticks(rotation=90)\n",
    "plt.ylabel('Number of Sessions')\n",
    "plt.legend(title=\"Event Name\")\n",
    "plt.show()"
   ]
  },
  {
   "cell_type": "markdown",
   "metadata": {},
   "source": [
    "- Although the records previously stated that the data went up to 01/01/2021, our data showed movements up to 12/29/2020\n",
    "- The records began on 07/12 and ended on 12/29\n",
    "- The date with the most logins and purchases was 12/21, most likely due to Christmas"
   ]
  },
  {
   "cell_type": "markdown",
   "metadata": {},
   "source": [
    "### Are there any particularities in the data that you should consider before starting A/B testing?"
   ]
  },
  {
   "cell_type": "code",
   "execution_count": 45,
   "metadata": {},
   "outputs": [],
   "source": [
    "recommender_count = data['user_id'].nunique()"
   ]
  },
  {
   "cell_type": "code",
   "execution_count": 46,
   "metadata": {},
   "outputs": [
    {
     "name": "stdout",
     "output_type": "stream",
     "text": [
      "Total number of users: 2788\n"
     ]
    }
   ],
   "source": [
    "print(f'Total number of users:', recommender_count)"
   ]
  },
  {
   "cell_type": "code",
   "execution_count": 48,
   "metadata": {},
   "outputs": [
    {
     "data": {
      "image/png": "[encoded data removed]",
      "text/plain": [
       "<Figure size 600x600 with 1 Axes>"
      ]
     },
     "metadata": {},
     "output_type": "display_data"
    }
   ],
   "source": [
    "labels = count_group['group']\n",
    "values = count_group['user_id'].values \n",
    "\n",
    "percentages = [v / sum(values) * 100 for v in values]\n",
    "\n",
    "plt.figure(figsize=(6, 6))\n",
    "plt.pie(values, labels=[f\"{g} ({p:.0f}%)\" for g, p in zip(labels, percentages)], startangle=140, colors=colors)\n",
    "\n",
    "plt.title(\"User Distribution between Groups A/B\")\n",
    "plt.show()"
   ]
  },
  {
   "cell_type": "markdown",
   "metadata": {},
   "source": [
    "It is important to note that the test has fewer users than expected to carry it out, in addition, the distribution between users is unbalanced, with 75% in group A and 25% in group B."
   ]
  },
  {
   "cell_type": "markdown",
   "metadata": {},
   "source": [
    "## Evaluate A/B test results:"
   ]
  },
  {
   "cell_type": "markdown",
   "metadata": {},
   "source": [
    "### What can you say about the A/B test results?"
   ]
  },
  {
   "cell_type": "markdown",
   "metadata": {},
   "source": [
    "- We can see that group B did not perform as well as group A, nor did it have the expected 10% growth in each stage of the funnel. There is a hypothesis that this happens because the groups present a certain imbalance both when we look at each test in isolation, which brings a greater discrepancy, and when we look at the test as a whole. - Despite this, the conversion funnel shows that 30% of users are closing purchases, which can be considered a significant conversion rate\n",
    "- The number of users who do not continue to the next page after logging in is very high, which may indicate a problem logging in, a confusing website, or an unclear navigation flow dynamic, which may impact the number of sales\n",
    "- The number of logins remains the same throughout the day, so the time does not have that much of an impact\n",
    "- The peak of purchases was on 12/21, despite there being a Christmas and New Year's promotion on the 25th. They could consider bringing forward this promotion date, after all, the 25th is when most people are giving gifts and not making purchases"
   ]
  },
  {
   "cell_type": "markdown",
   "metadata": {},
   "source": [
    "#### Use a z-test to check the statistical difference between the proportions."
   ]
  },
  {
   "cell_type": "markdown",
   "metadata": {},
   "source": [
    "Let's define the hypotheses as:\n",
    "\n",
    "H0: There is a statistical difference between groups A and B <br>\n",
    "H1: There is no evidence of a difference"
   ]
  },
  {
   "cell_type": "code",
   "execution_count": 50,
   "metadata": {},
   "outputs": [
    {
     "name": "stdout",
     "output_type": "stream",
     "text": [
      "Testing the hypothesis for each event:\n",
      "\n",
      "Event: login | p-value: 0.0859\n",
      "Failed to reject H0 for event 'login' between groups A and B.\n",
      "\n",
      "Event: product_cart | p-value: 0.1766\n",
      "Failed to reject H0 for event 'product_cart' between groups A and B.\n",
      "\n",
      "Event: product_page | p-value: 0.0000\n",
      "We reject H0 for the event 'product_page' between groups A e B.\n",
      "\n",
      "Event: purchase | p-value: 0.1028\n",
      "Failed to reject H0 for event 'purchase' between groups A and B.\n",
      "\n"
     ]
    }
   ],
   "source": [
    "def check_hypothesis(group1, group2, event, data, alpha=0.05):\n",
    "    pivot = data.pivot_table(values='user_id', index='event_name', columns='group', aggfunc='nunique')\n",
    "\n",
    "    #contagem de usuários únicos que realizaram o evento em cada grupo\n",
    "    successes = [\n",
    "        pivot.loc[event, group1] if event in pivot.index and group1 in pivot.columns else 0,\n",
    "        pivot.loc[event, group2] if event in pivot.index and group2 in pivot.columns else 0\n",
    "    ]\n",
    "\n",
    "    #contagem total de usuarios em cada grupo\n",
    "    trials = [\n",
    "        data[data.group == group1]['user_id'].nunique(),\n",
    "        data[data.group == group2]['user_id'].nunique()\n",
    "    ]\n",
    "\n",
    "    #executando o teste Z\n",
    "    z_stat, p_value = proportions_ztest(successes, trials, alternative='two-sided')\n",
    "\n",
    "    print(f\"Event: {event} | p-value: {p_value:.4f}\")\n",
    "\n",
    "    if p_value < alpha:\n",
    "        print(f\"We reject H0 for the event '{event}' between groups {group1} e {group2}.\\n\")\n",
    "    else:\n",
    "        print(f\"Failed to reject H0 for event '{event}' between groups {group1} and {group2}.\\n\")\n",
    "\n",
    "#testando a hipotese para cada evento\n",
    "eventos = ['login', 'product_cart', 'product_page', 'purchase']\n",
    "\n",
    "print(\"Testing the hypothesis for each event:\\n\")\n",
    "for event in eventos:\n",
    "    check_hypothesis('A', 'B', event, data)"
   ]
  },
  {
   "cell_type": "markdown",
   "metadata": {},
   "source": [
    "## Describe your conclusions about the AED step and the result of the A/B test."
   ]
  },
  {
   "cell_type": "markdown",
   "metadata": {},
   "source": [
    "- 30% of users completed purchases on the website, although just under half of them did not leave the login page\n",
    "- The groups were not equally divided, which may have an impact when we analyze the results\n",
    "- There was a peak in logins and an increase in the number of purchases on December 21st\n",
    "- The end-of-year promotions could be held before Christmas, taking advantage of the fact that many people give gifts on the 25th\n",
    "- For the login and shopping cart events, there was no statistical difference between the groups, but for the product page and purchase events, there was a difference\n",
    "- The test does not seem to have been conducted in the best way, since there is a significant difference between the tests and the groups, which greatly impacts the results\n",
    "- One recommendation would be to conduct another test to reach more assertive conclusions"
   ]
  }
 ],
 "metadata": {
  "ExecuteTimeLog": [
   {
    "duration": 855,
    "start_time": "2025-02-12T09:47:31.382Z"
   },
   {
    "duration": 567,
    "start_time": "2025-02-12T09:47:32.239Z"
   },
   {
    "duration": 8,
    "start_time": "2025-02-12T11:49:23.907Z"
   }
  ],
  "kernelspec": {
   "display_name": "Python 3",
   "language": "python",
   "name": "python3"
  },
  "language_info": {
   "codemirror_mode": {
    "name": "ipython",
    "version": 3
   },
   "file_extension": ".py",
   "mimetype": "text/x-python",
   "name": "python",
   "nbconvert_exporter": "python",
   "pygments_lexer": "ipython3",
   "version": "3.12.0"
  },
  "toc": {
   "base_numbering": 1,
   "nav_menu": {},
   "number_sections": true,
   "sideBar": true,
   "skip_h1_title": true,
   "title_cell": "Table of Contents",
   "title_sidebar": "Contents",
   "toc_cell": false,
   "toc_position": {},
   "toc_section_display": true,
   "toc_window_display": false
  }
 },
 "nbformat": 4,
 "nbformat_minor": 2
}
